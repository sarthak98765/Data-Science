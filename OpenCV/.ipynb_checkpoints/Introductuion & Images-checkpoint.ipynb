{
 "cells": [
  {
   "cell_type": "code",
   "execution_count": 1,
   "id": "f3e6cf57",
   "metadata": {},
   "outputs": [],
   "source": [
    "import cv2"
   ]
  },
  {
   "cell_type": "markdown",
   "id": "81ddccac",
   "metadata": {},
   "source": [
    "## 1) Loading an Image"
   ]
  },
  {
   "cell_type": "markdown",
   "id": "c47201d8",
   "metadata": {},
   "source": [
    "- -1, cv2.IMREAD_COLOR: Loads a colour image. Any transparency of image will be neglected. It is the default flag\n",
    "- 0, cv2.IMREAD_GREYSCALE: Loads image in greyscale mode\n",
    "- 1, cv2.IMREAD_UNCHANGED: Loads image as such alpha particle"
   ]
  },
  {
   "cell_type": "code",
   "execution_count": 2,
   "id": "e0a2d23d",
   "metadata": {},
   "outputs": [],
   "source": [
    "img=cv2.imread(\"PV/linkedin.jpg\",0)"
   ]
  },
  {
   "cell_type": "code",
   "execution_count": 3,
   "id": "3b56e1d9",
   "metadata": {},
   "outputs": [],
   "source": [
    "img_1=cv2.imread(\"PV/linkedin.jpg\",1)"
   ]
  },
  {
   "cell_type": "code",
   "execution_count": 4,
   "id": "7a702e49",
   "metadata": {},
   "outputs": [],
   "source": [
    "img_2=cv2.imread(\"PV/linkedin.jpg\",-1)"
   ]
  },
  {
   "cell_type": "markdown",
   "id": "7c0a2b9a",
   "metadata": {},
   "source": [
    "## 2) Displaying the image"
   ]
  },
  {
   "cell_type": "code",
   "execution_count": 5,
   "id": "9a8e31e3",
   "metadata": {},
   "outputs": [],
   "source": [
    "cv2.imshow(\"Image\", img)\n",
    "# cv2.imshow(\"window_name\", image)--- It creates a window to display the image\n",
    "\n",
    "cv2.waitKey(0)\n",
    "# cv2.waitKey(5)-- wait 5 seconds and shut the window\n",
    "# cv2.waitKey(0)--waits infinite time and when we press a key, windows shuts\n",
    "\n",
    "cv2.destroyAllWindows()\n",
    "# shuts all window"
   ]
  },
  {
   "cell_type": "markdown",
   "id": "b77b85c7",
   "metadata": {},
   "source": [
    "## 3) Resize an image"
   ]
  },
  {
   "cell_type": "code",
   "execution_count": 11,
   "id": "e746f5f4",
   "metadata": {},
   "outputs": [],
   "source": [
    "img2=cv2.resize(img,(400,400))\n",
    "# cv2.resize(img,(len,bredth))"
   ]
  },
  {
   "cell_type": "code",
   "execution_count": 9,
   "id": "b7ea174d",
   "metadata": {},
   "outputs": [],
   "source": [
    "cv2.imshow(\"Image1\",img2)\n",
    "cv2.waitKey(0)\n",
    "cv2.destroyAllWindows()"
   ]
  },
  {
   "cell_type": "code",
   "execution_count": 12,
   "id": "74aa44a7",
   "metadata": {},
   "outputs": [],
   "source": [
    "# if you want to double the size then fx=2,fy=2 and if half then fx=0.5,fy=0.5\n",
    "img3=cv2.resize(img,(0,0),fx=2,fy=2)\n",
    "cv2.imshow(\"Image1\",img3)\n",
    "cv2.waitKey(0)\n",
    "cv2.destroyAllWindows()"
   ]
  },
  {
   "cell_type": "markdown",
   "id": "ad1c9b39",
   "metadata": {},
   "source": [
    "## 4) Rotating an image"
   ]
  },
  {
   "cell_type": "code",
   "execution_count": 14,
   "id": "29589bff",
   "metadata": {},
   "outputs": [],
   "source": [
    "img4=cv2.rotate(img, cv2.ROTATE_90_COUNTERCLOCKWISE)\n",
    "cv2.imshow(\"Image1\",img4)\n",
    "cv2.waitKey(0)\n",
    "cv2.destroyAllWindows()"
   ]
  },
  {
   "cell_type": "markdown",
   "id": "b5fb8943",
   "metadata": {},
   "source": [
    "## 5) Image manipulation"
   ]
  },
  {
   "cell_type": "code",
   "execution_count": 15,
   "id": "41a4c0a0",
   "metadata": {},
   "outputs": [
    {
     "data": {
      "text/plain": [
       "True"
      ]
     },
     "execution_count": 15,
     "metadata": {},
     "output_type": "execute_result"
    }
   ],
   "source": [
    "cv2.imwrite(\"new_img.jpg\",img4)\n",
    "# It creates a image "
   ]
  },
  {
   "cell_type": "code",
   "execution_count": null,
   "id": "685bae30",
   "metadata": {},
   "outputs": [],
   "source": []
  }
 ],
 "metadata": {
  "kernelspec": {
   "display_name": "Python 3 (ipykernel)",
   "language": "python",
   "name": "python3"
  },
  "language_info": {
   "codemirror_mode": {
    "name": "ipython",
    "version": 3
   },
   "file_extension": ".py",
   "mimetype": "text/x-python",
   "name": "python",
   "nbconvert_exporter": "python",
   "pygments_lexer": "ipython3",
   "version": "3.9.13"
  }
 },
 "nbformat": 4,
 "nbformat_minor": 5
}
