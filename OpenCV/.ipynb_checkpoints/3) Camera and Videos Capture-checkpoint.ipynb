{
 "cells": [
  {
   "cell_type": "code",
   "execution_count": 2,
   "id": "758251d6",
   "metadata": {},
   "outputs": [],
   "source": [
    "import cv2\n",
    "import numpy as np"
   ]
  },
  {
   "cell_type": "markdown",
   "id": "24e920f7",
   "metadata": {},
   "source": [
    "## 1) Displaying video capture device"
   ]
  },
  {
   "cell_type": "code",
   "execution_count": 4,
   "id": "b056280a",
   "metadata": {},
   "outputs": [],
   "source": [
    "cap=cv2.VideoCapture(0)   #  initializes a video capture object (cap) using the default camera (camera index 0)\n",
    "\n",
    "while True:\n",
    "    ret, frame = cap.read()  # ret is a boolean indicating whether the frame was successfully read and 'frame' contains the image\n",
    "    \n",
    "    cv2.imshow(\"image\", frame)\n",
    "    \n",
    "    if cv2.waitKey(1)==ord('q'): # If the key pressed is 'q', the loop is exited, and the program proceeds to the next line\n",
    "        break\n",
    "        \n",
    "cap.release()  # This releases the video capture object, freeing up system resources associated with it\n",
    "cv2.destroyAllWindows()"
   ]
  },
  {
   "cell_type": "markdown",
   "id": "bf8331ee",
   "metadata": {},
   "source": [
    "## 2) making black image"
   ]
  },
  {
   "cell_type": "code",
   "execution_count": 6,
   "id": "05fdcee4",
   "metadata": {},
   "outputs": [],
   "source": [
    "cap=cv2.VideoCapture(0)   \n",
    "\n",
    "while True:\n",
    "    ret, frame = cap.read() \n",
    "    \n",
    "    image = np.zeros(frame.shape, np.uint8)\n",
    "    \n",
    "    cv2.imshow(\"image\", image)\n",
    "    \n",
    "    if cv2.waitKey(1)==ord('q'): \n",
    "        break\n",
    "        \n",
    "cap.release()  \n",
    "cv2.destroyAllWindows()"
   ]
  },
  {
   "cell_type": "markdown",
   "id": "827aad11",
   "metadata": {},
   "source": [
    "## 3) Mirroring video multiple times"
   ]
  },
  {
   "cell_type": "markdown",
   "id": "a42d622d",
   "metadata": {},
   "source": [
    "- There are many \"cap.get()\" properties with property id "
   ]
  },
  {
   "cell_type": "code",
   "execution_count": 7,
   "id": "ba1aa2bc",
   "metadata": {},
   "outputs": [],
   "source": [
    "cap=cv2.VideoCapture(0)   \n",
    "\n",
    "while True:\n",
    "    ret, frame = cap.read() \n",
    "    width=int(cap.get(3))   # 3 is for width and 4 is for height\n",
    "    height=int(cap.get(4))\n",
    "    \n",
    "    image = np.zeros(frame.shape, np.uint8)\n",
    "    \n",
    "    smaller_frame=cv2.resize(frame,(0,0), fx=0.5,fy=0.5)\n",
    "    \n",
    "    image[:height//2, :width//2] = smaller_frame  # making dimension equal\n",
    "    image[height//2:, :width//2] = smaller_frame\n",
    "    image[:height//2, width//2:] = smaller_frame\n",
    "    image[height//2:, width//2:] = smaller_frame\n",
    "    \n",
    "    cv2.imshow(\"image\", image)\n",
    "    \n",
    "    if cv2.waitKey(1)==ord('q'): \n",
    "        break\n",
    "        \n",
    "cap.release()  \n",
    "cv2.destroyAllWindows()"
   ]
  },
  {
   "cell_type": "markdown",
   "id": "40e99d7b",
   "metadata": {},
   "source": [
    "## 4) rotating the multiple faces"
   ]
  },
  {
   "cell_type": "code",
   "execution_count": 8,
   "id": "0b33f64e",
   "metadata": {},
   "outputs": [],
   "source": [
    "cap=cv2.VideoCapture(0)   \n",
    "\n",
    "while True:\n",
    "    ret, frame = cap.read() \n",
    "    width=int(cap.get(3))   # 3 is for width and 4 is for height\n",
    "    height=int(cap.get(4))\n",
    "    \n",
    "    image = np.zeros(frame.shape, np.uint8)\n",
    "    \n",
    "    smaller_frame=cv2.resize(frame,(0,0), fx=0.5,fy=0.5)\n",
    "    \n",
    "    image[:height//2, :width//2] = smaller_frame\n",
    "    image[height//2:, :width//2] = cv2.rotate(smaller_frame, cv2.ROTATE_180)\n",
    "    image[:height//2, width//2:] = smaller_frame\n",
    "    image[height//2:, width//2:] = cv2.rotate(smaller_frame, cv2.ROTATE_180)\n",
    "    \n",
    "    cv2.imshow(\"image\", image)\n",
    "    \n",
    "    if cv2.waitKey(1)==ord('q'): \n",
    "        break\n",
    "        \n",
    "cap.release()  \n",
    "cv2.destroyAllWindows()"
   ]
  },
  {
   "cell_type": "code",
   "execution_count": null,
   "id": "dd013dec",
   "metadata": {},
   "outputs": [],
   "source": []
  }
 ],
 "metadata": {
  "kernelspec": {
   "display_name": "Python 3 (ipykernel)",
   "language": "python",
   "name": "python3"
  },
  "language_info": {
   "codemirror_mode": {
    "name": "ipython",
    "version": 3
   },
   "file_extension": ".py",
   "mimetype": "text/x-python",
   "name": "python",
   "nbconvert_exporter": "python",
   "pygments_lexer": "ipython3",
   "version": "3.9.13"
  }
 },
 "nbformat": 4,
 "nbformat_minor": 5
}
