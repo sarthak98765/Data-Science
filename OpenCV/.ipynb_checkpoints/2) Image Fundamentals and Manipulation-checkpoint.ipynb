{
 "cells": [
  {
   "cell_type": "code",
   "execution_count": 1,
   "id": "93c3a55d",
   "metadata": {},
   "outputs": [],
   "source": [
    "import cv2"
   ]
  },
  {
   "cell_type": "code",
   "execution_count": 9,
   "id": "c5b2d2bc",
   "metadata": {},
   "outputs": [],
   "source": [
    "img=cv2.imread(\"PV/linkedin.jpg\",0)"
   ]
  },
  {
   "cell_type": "markdown",
   "id": "6365c241",
   "metadata": {},
   "source": [
    "## 1) Representation of an image"
   ]
  },
  {
   "cell_type": "code",
   "execution_count": 3,
   "id": "15f6ab42",
   "metadata": {},
   "outputs": [
    {
     "name": "stdout",
     "output_type": "stream",
     "text": [
      "[[85 85 85 ... 85 85 85]\n",
      " [85 85 85 ... 85 85 85]\n",
      " [85 85 85 ... 85 85 85]\n",
      " ...\n",
      " [85 85 85 ... 85 85 85]\n",
      " [85 85 85 ... 85 85 85]\n",
      " [85 85 85 ... 85 85 85]]\n"
     ]
    }
   ],
   "source": [
    "print(img)"
   ]
  },
  {
   "cell_type": "code",
   "execution_count": 4,
   "id": "92b65c9c",
   "metadata": {},
   "outputs": [
    {
     "data": {
      "text/plain": [
       "numpy.ndarray"
      ]
     },
     "execution_count": 4,
     "metadata": {},
     "output_type": "execute_result"
    }
   ],
   "source": [
    "type(img)"
   ]
  },
  {
   "cell_type": "markdown",
   "id": "bb9139bd",
   "metadata": {},
   "source": [
    "Image is actually a numpy array\n",
    "- OpenCV extracts the pixels from the image and load it in numpy"
   ]
  },
  {
   "cell_type": "code",
   "execution_count": 5,
   "id": "bab17f82",
   "metadata": {},
   "outputs": [],
   "source": [
    "cv2.imshow(\"Image\",img)\n",
    "cv2.waitKey(0)\n",
    "cv2.destroyAllWindows()"
   ]
  },
  {
   "cell_type": "code",
   "execution_count": 6,
   "id": "ebe225aa",
   "metadata": {},
   "outputs": [
    {
     "data": {
      "text/plain": [
       "(398, 398)"
      ]
     },
     "execution_count": 6,
     "metadata": {},
     "output_type": "execute_result"
    }
   ],
   "source": [
    "img.shape"
   ]
  },
  {
   "cell_type": "markdown",
   "id": "686d7a74",
   "metadata": {},
   "source": [
    "shape is (x,y,z)\n",
    "- x= no. of rows/ height of the image\n",
    "- y= no. of columns/ width of image\n",
    "- z= no. of channels - no. of values storing each pixel"
   ]
  },
  {
   "cell_type": "code",
   "execution_count": 8,
   "id": "c8a9bad4",
   "metadata": {},
   "outputs": [],
   "source": [
    "img2=cv2.imread(\"PV/linkedin.jpg\",-1)"
   ]
  },
  {
   "cell_type": "code",
   "execution_count": 10,
   "id": "993c91d8",
   "metadata": {},
   "outputs": [
    {
     "data": {
      "text/plain": [
       "(398, 398, 3)"
      ]
     },
     "execution_count": 10,
     "metadata": {},
     "output_type": "execute_result"
    }
   ],
   "source": [
    "img2.shape"
   ]
  },
  {
   "cell_type": "markdown",
   "id": "fdaa6d2b",
   "metadata": {},
   "source": [
    "- 3 channels is due to the colour- BGR\n",
    "- standard is RGB but openCV uses BGR,i.e, blue green red\n",
    "- [x,y,z] pixel represents x amt of blue, y amt. of green and z amt. of red in the pixel\n",
    "- 0-zero, 255-one.....range is (0-255)\n",
    "- [255,0,0] represents all blue and none green n red\n",
    "- [122,0,0] represents some blue and no green n red"
   ]
  },
  {
   "cell_type": "markdown",
   "id": "453baf13",
   "metadata": {},
   "source": [
    "## 2) Accessing pixel values"
   ]
  },
  {
   "cell_type": "code",
   "execution_count": 12,
   "id": "1460b379",
   "metadata": {},
   "outputs": [
    {
     "name": "stdout",
     "output_type": "stream",
     "text": [
      "[[195 102  11]\n",
      " [195 102  11]\n",
      " [195 102  11]\n",
      " ...\n",
      " [195 102  11]\n",
      " [195 102  11]\n",
      " [195 102  11]]\n"
     ]
    }
   ],
   "source": [
    "print(img2[0])"
   ]
  },
  {
   "cell_type": "code",
   "execution_count": 13,
   "id": "3fc77474",
   "metadata": {},
   "outputs": [
    {
     "name": "stdout",
     "output_type": "stream",
     "text": [
      "[252 250 250]\n"
     ]
    }
   ],
   "source": [
    "print(img2[100][100])"
   ]
  },
  {
   "cell_type": "code",
   "execution_count": 14,
   "id": "78cf933b",
   "metadata": {},
   "outputs": [
    {
     "name": "stdout",
     "output_type": "stream",
     "text": [
      "[195 102  11]\n"
     ]
    }
   ],
   "source": [
    "print(img2[50][100])"
   ]
  },
  {
   "cell_type": "markdown",
   "id": "dc7118a5",
   "metadata": {},
   "source": [
    "## 3) Changing pixel values"
   ]
  },
  {
   "cell_type": "code",
   "execution_count": 15,
   "id": "30fcb5f1",
   "metadata": {},
   "outputs": [],
   "source": [
    "cv2.imshow(\"Image\",img2)\n",
    "cv2.waitKey(0)\n",
    "cv2.destroyAllWindows()"
   ]
  },
  {
   "cell_type": "code",
   "execution_count": 16,
   "id": "1f99d140",
   "metadata": {},
   "outputs": [
    {
     "data": {
      "text/plain": [
       "(398, 398, 3)"
      ]
     },
     "execution_count": 16,
     "metadata": {},
     "output_type": "execute_result"
    }
   ],
   "source": [
    "img2.shape"
   ]
  },
  {
   "cell_type": "code",
   "execution_count": 17,
   "id": "0ad352a1",
   "metadata": {},
   "outputs": [],
   "source": [
    "# if you want to double the size then fx=2,fy=2 and if half then fx=0.5,fy=0.5\n",
    "img3=cv2.resize(img2,(0,0),fx=2,fy=2)\n",
    "cv2.imshow(\"Image1\",img3)\n",
    "cv2.waitKey(0)\n",
    "cv2.destroyAllWindows()"
   ]
  },
  {
   "cell_type": "code",
   "execution_count": 18,
   "id": "2038a7b5",
   "metadata": {},
   "outputs": [
    {
     "data": {
      "text/plain": [
       "(796, 796, 3)"
      ]
     },
     "execution_count": 18,
     "metadata": {},
     "output_type": "execute_result"
    }
   ],
   "source": [
    "img3.shape"
   ]
  },
  {
   "cell_type": "markdown",
   "id": "bfbaf93b",
   "metadata": {},
   "source": [
    "- Doubling the size of image will double rows and columns"
   ]
  },
  {
   "cell_type": "code",
   "execution_count": 19,
   "id": "ed9cf8d5",
   "metadata": {},
   "outputs": [],
   "source": [
    "import random"
   ]
  },
  {
   "cell_type": "code",
   "execution_count": 20,
   "id": "6d6ff4c2",
   "metadata": {},
   "outputs": [],
   "source": [
    "for i in range(100):\n",
    "    for j in range(img2.shape[1]):\n",
    "        img2[i][j]=[random.randint(0,255),random.randint(0,255),random.randint(0,255)]"
   ]
  },
  {
   "cell_type": "code",
   "execution_count": 21,
   "id": "c4f63416",
   "metadata": {},
   "outputs": [],
   "source": [
    "cv2.imshow(\"Image\",img2)\n",
    "cv2.waitKey(0)\n",
    "cv2.destroyAllWindows()"
   ]
  },
  {
   "cell_type": "markdown",
   "id": "650ab091",
   "metadata": {},
   "source": [
    "## 4) copy n pasting part of an image"
   ]
  },
  {
   "cell_type": "code",
   "execution_count": 22,
   "id": "d9db43bb",
   "metadata": {},
   "outputs": [],
   "source": [
    "# if you want to double the size then fx=2,fy=2 and if half then fx=0.5,fy=0.5\n",
    "img4=cv2.resize(img3,(0,0),fx=0.7,fy=0.7)\n",
    "cv2.imshow(\"Image1\",img4)\n",
    "cv2.waitKey(0)\n",
    "cv2.destroyAllWindows()"
   ]
  },
  {
   "cell_type": "code",
   "execution_count": 23,
   "id": "b576864b",
   "metadata": {},
   "outputs": [
    {
     "data": {
      "text/plain": [
       "(557, 557, 3)"
      ]
     },
     "execution_count": 23,
     "metadata": {},
     "output_type": "execute_result"
    }
   ],
   "source": [
    "img4.shape"
   ]
  },
  {
   "cell_type": "code",
   "execution_count": 26,
   "id": "07be772d",
   "metadata": {},
   "outputs": [],
   "source": [
    "tag=img4[200:350,200:350]\n",
    "img4[0:150,0:150]=tag # dimension should be same"
   ]
  },
  {
   "cell_type": "code",
   "execution_count": 27,
   "id": "80dfa1f2",
   "metadata": {},
   "outputs": [],
   "source": [
    "cv2.imshow(\"Image1\",img4)\n",
    "cv2.waitKey(0)\n",
    "cv2.destroyAllWindows()"
   ]
  },
  {
   "cell_type": "code",
   "execution_count": null,
   "id": "9d98d36c",
   "metadata": {},
   "outputs": [],
   "source": []
  }
 ],
 "metadata": {
  "kernelspec": {
   "display_name": "Python 3 (ipykernel)",
   "language": "python",
   "name": "python3"
  },
  "language_info": {
   "codemirror_mode": {
    "name": "ipython",
    "version": 3
   },
   "file_extension": ".py",
   "mimetype": "text/x-python",
   "name": "python",
   "nbconvert_exporter": "python",
   "pygments_lexer": "ipython3",
   "version": "3.9.13"
  }
 },
 "nbformat": 4,
 "nbformat_minor": 5
}
