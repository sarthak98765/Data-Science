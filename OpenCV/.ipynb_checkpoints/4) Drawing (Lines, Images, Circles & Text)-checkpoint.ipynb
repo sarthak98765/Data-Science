{
 "cells": [
  {
   "cell_type": "code",
   "execution_count": 1,
   "id": "c6aac3d3",
   "metadata": {},
   "outputs": [],
   "source": [
    "import numpy as np\n",
    "import cv2"
   ]
  },
  {
   "cell_type": "markdown",
   "id": "5c25d2d2",
   "metadata": {},
   "source": [
    "## 1) Drawing a line"
   ]
  },
  {
   "cell_type": "code",
   "execution_count": 5,
   "id": "6297ef3c",
   "metadata": {},
   "outputs": [],
   "source": [
    "cap=cv2.VideoCapture(0)   \n",
    "\n",
    "while True:\n",
    "    ret, frame = cap.read() \n",
    "    width=int(cap.get(3))   \n",
    "    height=int(cap.get(4))\n",
    "    \n",
    "    img = cv2.line(frame, (0,0), (width,height), (255,0,0),10)\n",
    "    # cv2.line(source image, (starting coordinate), (ending coordinate), (color of line), (thickness of line))\n",
    "    img2 = cv2.line(img, (0,height), (width,0), (0,0,255),10)\n",
    "    \n",
    "    cv2.imshow(\"image\", img2)\n",
    "    \n",
    "    if cv2.waitKey(1)==ord('q'): \n",
    "        break\n",
    "        \n",
    "cap.release()  \n",
    "cv2.destroyAllWindows()"
   ]
  },
  {
   "cell_type": "markdown",
   "id": "63c3b517",
   "metadata": {},
   "source": [
    "## 2) Drawing Rectangles"
   ]
  },
  {
   "cell_type": "code",
   "execution_count": 6,
   "id": "de1d0c92",
   "metadata": {},
   "outputs": [],
   "source": [
    "cap=cv2.VideoCapture(0)   \n",
    "\n",
    "while True:\n",
    "    ret, frame = cap.read() \n",
    "    width=int(cap.get(3))   \n",
    "    height=int(cap.get(4))\n",
    "    \n",
    "    img = cv2.line(frame, (0,0), (width,height), (255,0,0),10)\n",
    "    \n",
    "    img = cv2.line(img, (0,height), (width,0), (0,255,0),10)\n",
    "    \n",
    "    img = cv2.rectangle(img, (100,100),(200,200),(0,0,255),5)\n",
    "    \n",
    "    cv2.imshow(\"image\", img)\n",
    "    \n",
    "    if cv2.waitKey(1)==ord('q'): \n",
    "        break\n",
    "        \n",
    "cap.release()  \n",
    "cv2.destroyAllWindows()"
   ]
  },
  {
   "cell_type": "markdown",
   "id": "074ec22e",
   "metadata": {},
   "source": [
    "- img: This is the input image on which the rectangle will be drawn. It's assumed that img is a NumPy array representing the image.\n",
    "- (100, 100): This is the coordinate of the top-left corner of the rectangle. In this case, the top-left corner is at pixel coordinates (100, 100) in the image.\n",
    "- (200, 200): This is the coordinate of the bottom-right corner of the rectangle. The bottom-right corner is at pixel coordinates (200, 200) in the image.\n",
    "- (0, 0, 255): This is the color of the rectangle in BGR format. In this case, it's a red rectangle because the blue component is set to 0, the green component is set to 0, and the red component is set to 255. So, it's (255, 0, 0) in RGB format.\n",
    "- 5: This is the thickness of the rectangle's border. The border will be drawn with a thickness of 5 pixels."
   ]
  },
  {
   "cell_type": "markdown",
   "id": "692df392",
   "metadata": {},
   "source": [
    "## 3) Drawing Circles"
   ]
  },
  {
   "cell_type": "code",
   "execution_count": 7,
   "id": "c0b584dd",
   "metadata": {},
   "outputs": [],
   "source": [
    "cap=cv2.VideoCapture(0)   \n",
    "\n",
    "while True:\n",
    "    ret, frame = cap.read() \n",
    "    width=int(cap.get(3))   \n",
    "    height=int(cap.get(4))\n",
    "    \n",
    "    img = cv2.line(frame, (0,0), (width,height), (255,0,0),10)\n",
    "    \n",
    "    img = cv2.line(img, (0,height), (width,0), (0,255,0),10)\n",
    "    \n",
    "    img = cv2.rectangle(img, (100,100),(200,200),(0,0,255),5)\n",
    "    \n",
    "    img = cv2.circle(img,(400,400), 50, (0,0,0), -1) # -1 is for filling\n",
    "    \n",
    "    cv2.imshow(\"image\", img)\n",
    "    \n",
    "    if cv2.waitKey(1)==ord('q'): \n",
    "        break\n",
    "        \n",
    "cap.release()  \n",
    "cv2.destroyAllWindows()"
   ]
  },
  {
   "cell_type": "markdown",
   "id": "bc18f09f",
   "metadata": {},
   "source": [
    "## 4) Writing texts"
   ]
  },
  {
   "cell_type": "code",
   "execution_count": 8,
   "id": "7c7c6435",
   "metadata": {},
   "outputs": [],
   "source": [
    "cap=cv2.VideoCapture(0)   \n",
    "\n",
    "while True:\n",
    "    ret, frame = cap.read() \n",
    "    width=int(cap.get(3))   \n",
    "    height=int(cap.get(4))\n",
    "    \n",
    "    font=cv2.FONT_HERSHEY_SIMPLEX\n",
    "    img=cv2.putText(frame, \"I am Sarthak\", (10,height-10), font, 2, (0,0,255),5,cv2.LINE_AA)\n",
    "    # putText(source image, Text, Bottom left point, font, font_scale, color, thickness, IT makes lines look good)\n",
    "    \n",
    "    cv2.imshow(\"image\", img)\n",
    "    \n",
    "    if cv2.waitKey(1)==ord('q'): \n",
    "        break\n",
    "        \n",
    "cap.release()  \n",
    "cv2.destroyAllWindows()"
   ]
  },
  {
   "cell_type": "code",
   "execution_count": null,
   "id": "e5d6b206",
   "metadata": {},
   "outputs": [],
   "source": []
  }
 ],
 "metadata": {
  "kernelspec": {
   "display_name": "Python 3 (ipykernel)",
   "language": "python",
   "name": "python3"
  },
  "language_info": {
   "codemirror_mode": {
    "name": "ipython",
    "version": 3
   },
   "file_extension": ".py",
   "mimetype": "text/x-python",
   "name": "python",
   "nbconvert_exporter": "python",
   "pygments_lexer": "ipython3",
   "version": "3.9.13"
  }
 },
 "nbformat": 4,
 "nbformat_minor": 5
}
