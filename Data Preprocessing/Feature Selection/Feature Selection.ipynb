{
 "cells": [
  {
   "cell_type": "markdown",
   "id": "7570f2ba-544f-4620-ae84-328f6b4db776",
   "metadata": {},
   "source": [
    "## Feature Selection\r\n",
    "\r\n",
    "Feature selection or variable selection is the process of selecting a subset of relevant features or variables from the total features of a level in a data set to build machine learning algorithms.\r\n",
    "\r\n",
    "### Advantages of Selecting Features\r\n",
    "\r\n",
    "There are various advantages of the feature selection process. These are as follows:\r\n",
    "\r\n",
    "- Improved accuracy\r\n",
    "- Simple models are easier to interpret.\r\n",
    "- Shorter training times\r\n",
    "- Enhanced generalization by reducing overfitting\r\n",
    "- Easier to implement by software developers\r\n",
    "- Reduced risk of data errors by model use\r\n",
    "- Variable redundancy\r\n",
    "- Bad learning behaviour in high-dimensional spaces\r\n",
    "\r\n",
    "### Feature Selection Techniques\r\n",
    "\r\n",
    "Feature selection techniques are categorized into 3 types. These are as follows:\r\n",
    "\r\n",
    "1. Filter methods\r\n",
    "2. Wrapper methods\r\n",
    "3. Embedded methods\r\n",
    "\r\n",
    "### Filter Methods\r\n",
    "\r\n",
    "Filter methods consist of various techniques as given below:\r\n",
    "\r\n",
    "- Information gain\r\n",
    "- Chi square test\r\n",
    "- Fischer score\r\n",
    "- Correlation coefficient\r\n",
    "- Variance Threshold\r\n",
    "- Mean Absolute Difference\r\n",
    "- Dispersion Ratio\r\n",
    "\r\n",
    "### Wrapper Methods\r\n",
    "\r\n",
    "Wrapper methods consist of the following techniques:\r\n",
    "\r\n",
    "- Forward Selection\r\n",
    "- Backward Elimination\r\n",
    "- Exhaustive Feature Selection\r\n",
    "- Recursive Feature Elimination\r\n",
    "\r\n",
    "### Embedded Methods\r\n",
    "\r\n",
    "Embeddd methods consist of the followingtechniques:\r\n",
    "\r\n",
    "- LASSO\r\n",
    "- Random Forest Importance\r\n",
    "ques:-\r\n",
    "\r\n",
    "LASSO\r\n",
    "RIDGE\r\n",
    "Tree Importance"
   ]
  },
  {
   "cell_type": "code",
   "execution_count": null,
   "id": "43783f8c-d7f5-42bf-8f83-d011c8b51923",
   "metadata": {},
   "outputs": [],
   "source": []
  }
 ],
 "metadata": {
  "kernelspec": {
   "display_name": "Python 3 (ipykernel)",
   "language": "python",
   "name": "python3"
  },
  "language_info": {
   "codemirror_mode": {
    "name": "ipython",
    "version": 3
   },
   "file_extension": ".py",
   "mimetype": "text/x-python",
   "name": "python",
   "nbconvert_exporter": "python",
   "pygments_lexer": "ipython3",
   "version": "3.11.7"
  }
 },
 "nbformat": 4,
 "nbformat_minor": 5
}
