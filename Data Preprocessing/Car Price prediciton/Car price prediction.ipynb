{
 "cells": [
  {
   "cell_type": "markdown",
   "id": "3ce2caee",
   "metadata": {},
   "source": [
    "### What is EDA with Python?\n",
    "Exploratory Data Analysis (EDA) with Python involves analyzing and summarizing data to gain insights and understand its underlying patterns, relationships, and distributions using Python programming language.\n",
    "\n",
    "### How to make EDA in Python?\n",
    "To perform EDA in Python, you can use libraries like Pandas, NumPy, Matplotlib, and Seaborn. These libraries provide functions and tools for data manipulation, visualization, and statistical analysis, which facilitate the process of exploring and understanding the data\n",
    "\n",
    "### How to perform EDA in machine learning?\n",
    "Performing EDA in machine learning typically involves preprocessing the data by handling missing values, outliers, and feature scaling. Then, various statistical and visual techniques can be employed to analyze the relationships between variables, identify patterns, and assess the relevance of features. This helps in gaining a better understanding of the data before building a machine learning model\n",
    "\n",
    "### Complete process to do EDA?\n",
    "- Step 1: Import Python Libraries\n",
    "- Step 2: Reading Dataset\n",
    "- Step 3: Data Reduction \n",
    "- Step 4: Creating Features\n",
    "- Step 5: Data Cleaning/Wrangling\n",
    "- Step 6: EDA Exploratory Data Analysis\n",
    "- Step 7: Statistics Summary\n",
    "- Step 8: EDA Univariate Analysis\n",
    "- Step 9: Data Transformation\n",
    "- Step 10: EDA Bivariate Analysis\n",
    "- Step 11: EDA Multivariate Analysis\n",
    "- Step 12: Impute Missing values\n",
    "- Step 13: Feature Engineering\n",
    "- Conclusion"
   ]
  },
  {
   "cell_type": "markdown",
   "id": "604cc805",
   "metadata": {},
   "source": [
    "### Download dataset from here\n",
    "link: https://www.kaggle.com/datasets/sukhmanibedi/cars4u"
   ]
  },
  {
   "cell_type": "markdown",
   "id": "8b1df09d",
   "metadata": {},
   "source": [
    "## Step 1: Import Python Libraries "
   ]
  },
  {
   "cell_type": "code",
   "execution_count": 1,
   "id": "606ce049",
   "metadata": {},
   "outputs": [
    {
     "name": "stderr",
     "output_type": "stream",
     "text": [
      "C:\\Users\\Sarthak Aggarwal\\AppData\\Roaming\\Python\\Python39\\site-packages\\pandas\\core\\computation\\expressions.py:21: UserWarning: Pandas requires version '2.8.4' or newer of 'numexpr' (version '2.8.3' currently installed).\n",
      "  from pandas.core.computation.check import NUMEXPR_INSTALLED\n",
      "C:\\Users\\Sarthak Aggarwal\\AppData\\Roaming\\Python\\Python39\\site-packages\\pandas\\core\\arrays\\masked.py:60: UserWarning: Pandas requires version '1.3.6' or newer of 'bottleneck' (version '1.3.5' currently installed).\n",
      "  from pandas.core import (\n"
     ]
    }
   ],
   "source": [
    "import pandas as pd\n",
    "import numpy as np\n",
    "import matplotlib.pyplot as plt\n",
    "import seaborn as sns"
   ]
  },
  {
   "cell_type": "markdown",
   "id": "638aa2d4",
   "metadata": {},
   "source": [
    "## Step 2: Reading Dataset"
   ]
  },
  {
   "cell_type": "code",
   "execution_count": 2,
   "id": "609437ce",
   "metadata": {},
   "outputs": [],
   "source": [
    "df=pd.read_csv(\"cars.csv\")"
   ]
  },
  {
   "cell_type": "code",
   "execution_count": 3,
   "id": "a27af6d9",
   "metadata": {},
   "outputs": [
    {
     "data": {
      "text/html": [
       "<div>\n",
       "<style scoped>\n",
       "    .dataframe tbody tr th:only-of-type {\n",
       "        vertical-align: middle;\n",
       "    }\n",
       "\n",
       "    .dataframe tbody tr th {\n",
       "        vertical-align: top;\n",
       "    }\n",
       "\n",
       "    .dataframe thead th {\n",
       "        text-align: right;\n",
       "    }\n",
       "</style>\n",
       "<table border=\"1\" class=\"dataframe\">\n",
       "  <thead>\n",
       "    <tr style=\"text-align: right;\">\n",
       "      <th></th>\n",
       "      <th>S.No.</th>\n",
       "      <th>Name</th>\n",
       "      <th>Location</th>\n",
       "      <th>Year</th>\n",
       "      <th>Kilometers_Driven</th>\n",
       "      <th>Fuel_Type</th>\n",
       "      <th>Transmission</th>\n",
       "      <th>Owner_Type</th>\n",
       "      <th>Mileage</th>\n",
       "      <th>Engine</th>\n",
       "      <th>Power</th>\n",
       "      <th>Seats</th>\n",
       "      <th>New_Price</th>\n",
       "      <th>Price</th>\n",
       "    </tr>\n",
       "  </thead>\n",
       "  <tbody>\n",
       "    <tr>\n",
       "      <th>0</th>\n",
       "      <td>0</td>\n",
       "      <td>Maruti Wagon R LXI CNG</td>\n",
       "      <td>Mumbai</td>\n",
       "      <td>2010</td>\n",
       "      <td>72000</td>\n",
       "      <td>CNG</td>\n",
       "      <td>Manual</td>\n",
       "      <td>First</td>\n",
       "      <td>26.6 km/kg</td>\n",
       "      <td>998 CC</td>\n",
       "      <td>58.16 bhp</td>\n",
       "      <td>5.0</td>\n",
       "      <td>NaN</td>\n",
       "      <td>1.75</td>\n",
       "    </tr>\n",
       "    <tr>\n",
       "      <th>1</th>\n",
       "      <td>1</td>\n",
       "      <td>Hyundai Creta 1.6 CRDi SX Option</td>\n",
       "      <td>Pune</td>\n",
       "      <td>2015</td>\n",
       "      <td>41000</td>\n",
       "      <td>Diesel</td>\n",
       "      <td>Manual</td>\n",
       "      <td>First</td>\n",
       "      <td>19.67 kmpl</td>\n",
       "      <td>1582 CC</td>\n",
       "      <td>126.2 bhp</td>\n",
       "      <td>5.0</td>\n",
       "      <td>NaN</td>\n",
       "      <td>12.50</td>\n",
       "    </tr>\n",
       "    <tr>\n",
       "      <th>2</th>\n",
       "      <td>2</td>\n",
       "      <td>Honda Jazz V</td>\n",
       "      <td>Chennai</td>\n",
       "      <td>2011</td>\n",
       "      <td>46000</td>\n",
       "      <td>Petrol</td>\n",
       "      <td>Manual</td>\n",
       "      <td>First</td>\n",
       "      <td>18.2 kmpl</td>\n",
       "      <td>1199 CC</td>\n",
       "      <td>88.7 bhp</td>\n",
       "      <td>5.0</td>\n",
       "      <td>8.61 Lakh</td>\n",
       "      <td>4.50</td>\n",
       "    </tr>\n",
       "    <tr>\n",
       "      <th>3</th>\n",
       "      <td>3</td>\n",
       "      <td>Maruti Ertiga VDI</td>\n",
       "      <td>Chennai</td>\n",
       "      <td>2012</td>\n",
       "      <td>87000</td>\n",
       "      <td>Diesel</td>\n",
       "      <td>Manual</td>\n",
       "      <td>First</td>\n",
       "      <td>20.77 kmpl</td>\n",
       "      <td>1248 CC</td>\n",
       "      <td>88.76 bhp</td>\n",
       "      <td>7.0</td>\n",
       "      <td>NaN</td>\n",
       "      <td>6.00</td>\n",
       "    </tr>\n",
       "    <tr>\n",
       "      <th>4</th>\n",
       "      <td>4</td>\n",
       "      <td>Audi A4 New 2.0 TDI Multitronic</td>\n",
       "      <td>Coimbatore</td>\n",
       "      <td>2013</td>\n",
       "      <td>40670</td>\n",
       "      <td>Diesel</td>\n",
       "      <td>Automatic</td>\n",
       "      <td>Second</td>\n",
       "      <td>15.2 kmpl</td>\n",
       "      <td>1968 CC</td>\n",
       "      <td>140.8 bhp</td>\n",
       "      <td>5.0</td>\n",
       "      <td>NaN</td>\n",
       "      <td>17.74</td>\n",
       "    </tr>\n",
       "  </tbody>\n",
       "</table>\n",
       "</div>"
      ],
      "text/plain": [
       "   S.No.                              Name    Location  Year  \\\n",
       "0      0            Maruti Wagon R LXI CNG      Mumbai  2010   \n",
       "1      1  Hyundai Creta 1.6 CRDi SX Option        Pune  2015   \n",
       "2      2                      Honda Jazz V     Chennai  2011   \n",
       "3      3                 Maruti Ertiga VDI     Chennai  2012   \n",
       "4      4   Audi A4 New 2.0 TDI Multitronic  Coimbatore  2013   \n",
       "\n",
       "   Kilometers_Driven Fuel_Type Transmission Owner_Type     Mileage   Engine  \\\n",
       "0              72000       CNG       Manual      First  26.6 km/kg   998 CC   \n",
       "1              41000    Diesel       Manual      First  19.67 kmpl  1582 CC   \n",
       "2              46000    Petrol       Manual      First   18.2 kmpl  1199 CC   \n",
       "3              87000    Diesel       Manual      First  20.77 kmpl  1248 CC   \n",
       "4              40670    Diesel    Automatic     Second   15.2 kmpl  1968 CC   \n",
       "\n",
       "       Power  Seats  New_Price  Price  \n",
       "0  58.16 bhp    5.0        NaN   1.75  \n",
       "1  126.2 bhp    5.0        NaN  12.50  \n",
       "2   88.7 bhp    5.0  8.61 Lakh   4.50  \n",
       "3  88.76 bhp    7.0        NaN   6.00  \n",
       "4  140.8 bhp    5.0        NaN  17.74  "
      ]
     },
     "execution_count": 3,
     "metadata": {},
     "output_type": "execute_result"
    }
   ],
   "source": [
    "df.head()\n",
    "# display top 5 values of dataset"
   ]
  },
  {
   "cell_type": "code",
   "execution_count": 4,
   "id": "733b7a0a",
   "metadata": {},
   "outputs": [
    {
     "data": {
      "text/plain": [
       "Index(['S.No.', 'Name', 'Location', 'Year', 'Kilometers_Driven', 'Fuel_Type',\n",
       "       'Transmission', 'Owner_Type', 'Mileage', 'Engine', 'Power', 'Seats',\n",
       "       'New_Price', 'Price'],\n",
       "      dtype='object')"
      ]
     },
     "execution_count": 4,
     "metadata": {},
     "output_type": "execute_result"
    }
   ],
   "source": [
    "df.columns"
   ]
  },
  {
   "cell_type": "markdown",
   "id": "ac943b9b",
   "metadata": {},
   "source": [
    "#### About DataSet:\n",
    "1. S.No. : Serial Number\n",
    "2. Name : Name of the car which includes Brand name and Model name\n",
    "3. Location : The location in which the car is being sold or is available for purchase Citiesr> 4. Year : Manufacturing year of the car\n",
    "5. Kilometers_driven : The total kilometers driven in the car by the previous owner(s) in KM.\n",
    "6. Fuel_Type : The type of fuel used by the car. (Petrol, Diesel, Electric, CNG, LPG)\n",
    "7. Transmission : The type of transmission used by the car. (Automatic / Manual)\n",
    "8. Owner : Type of ownership\n",
    "9. Mileage : The standard mileage offered by the car company in kmpl or km/kg\n",
    "10. Engine : The displacement volume of the engine in CC.\n",
    "11. Power : The maximum power of the engine in bhp.\n",
    "12. Seats : The number of seats in the car.\n",
    "13. New_Price : The price of a new car of the same model in INR Lakhs.(1 Lakh = 100, 000)\n",
    "14. Price : The price of the used car in INR Lakhs (1 Lakh = 100, 000)"
   ]
  },
  {
   "cell_type": "code",
   "execution_count": 5,
   "id": "8d2c3533",
   "metadata": {},
   "outputs": [
    {
     "data": {
      "text/plain": [
       "(7253, 14)"
      ]
     },
     "execution_count": 5,
     "metadata": {},
     "output_type": "execute_result"
    }
   ],
   "source": [
    "df.shape"
   ]
  },
  {
   "cell_type": "markdown",
   "id": "056e42c1",
   "metadata": {},
   "source": [
    "There are 7253 observations and 14 variables in our dataset"
   ]
  },
  {
   "cell_type": "code",
   "execution_count": 6,
   "id": "7480a352",
   "metadata": {},
   "outputs": [
    {
     "name": "stdout",
     "output_type": "stream",
     "text": [
      "<class 'pandas.core.frame.DataFrame'>\n",
      "RangeIndex: 7253 entries, 0 to 7252\n",
      "Data columns (total 14 columns):\n",
      " #   Column             Non-Null Count  Dtype  \n",
      "---  ------             --------------  -----  \n",
      " 0   S.No.              7253 non-null   int64  \n",
      " 1   Name               7253 non-null   object \n",
      " 2   Location           7253 non-null   object \n",
      " 3   Year               7253 non-null   int64  \n",
      " 4   Kilometers_Driven  7253 non-null   int64  \n",
      " 5   Fuel_Type          7253 non-null   object \n",
      " 6   Transmission       7253 non-null   object \n",
      " 7   Owner_Type         7253 non-null   object \n",
      " 8   Mileage            7251 non-null   object \n",
      " 9   Engine             7207 non-null   object \n",
      " 10  Power              7207 non-null   object \n",
      " 11  Seats              7200 non-null   float64\n",
      " 12  New_Price          1006 non-null   object \n",
      " 13  Price              6019 non-null   float64\n",
      "dtypes: float64(2), int64(3), object(9)\n",
      "memory usage: 793.4+ KB\n"
     ]
    }
   ],
   "source": [
    "df.info()\n",
    "#info() helps to understand the data type and information about data, including the number of records in each column, data having null or not null, Data type, the memory usage of the dataset"
   ]
  },
  {
   "cell_type": "markdown",
   "id": "54cd342e",
   "metadata": {},
   "source": [
    "It shows the variables Mileage, Engine, Power, Seats, New_Price, and Price have missing values."
   ]
  },
  {
   "cell_type": "code",
   "execution_count": 7,
   "id": "ad6ccdcf",
   "metadata": {},
   "outputs": [
    {
     "data": {
      "text/plain": [
       "S.No.                7253\n",
       "Name                 2041\n",
       "Location               11\n",
       "Year                   23\n",
       "Kilometers_Driven    3660\n",
       "Fuel_Type               5\n",
       "Transmission            2\n",
       "Owner_Type              4\n",
       "Mileage               450\n",
       "Engine                150\n",
       "Power                 386\n",
       "Seats                   9\n",
       "New_Price             625\n",
       "Price                1373\n",
       "dtype: int64"
      ]
     },
     "execution_count": 7,
     "metadata": {},
     "output_type": "execute_result"
    }
   ],
   "source": [
    "# Check for duplication\n",
    "df.nunique()\n",
    "\n",
    "# tells about unique values in each column"
   ]
  },
  {
   "cell_type": "markdown",
   "id": "1dd4caf0",
   "metadata": {},
   "source": [
    "### Missing value calculation"
   ]
  },
  {
   "cell_type": "code",
   "execution_count": 8,
   "id": "1e4ea9b9",
   "metadata": {},
   "outputs": [
    {
     "data": {
      "text/plain": [
       "S.No.                   0\n",
       "Name                    0\n",
       "Location                0\n",
       "Year                    0\n",
       "Kilometers_Driven       0\n",
       "Fuel_Type               0\n",
       "Transmission            0\n",
       "Owner_Type              0\n",
       "Mileage                 2\n",
       "Engine                 46\n",
       "Power                  46\n",
       "Seats                  53\n",
       "New_Price            6247\n",
       "Price                1234\n",
       "dtype: int64"
      ]
     },
     "execution_count": 8,
     "metadata": {},
     "output_type": "execute_result"
    }
   ],
   "source": [
    "df.isnull().sum()"
   ]
  },
  {
   "cell_type": "code",
   "execution_count": 9,
   "id": "ab7faca7",
   "metadata": {},
   "outputs": [
    {
     "data": {
      "text/plain": [
       "S.No.                 0.000000\n",
       "Name                  0.000000\n",
       "Location              0.000000\n",
       "Year                  0.000000\n",
       "Kilometers_Driven     0.000000\n",
       "Fuel_Type             0.000000\n",
       "Transmission          0.000000\n",
       "Owner_Type            0.000000\n",
       "Mileage               0.027575\n",
       "Engine                0.634220\n",
       "Power                 0.634220\n",
       "Seats                 0.730732\n",
       "New_Price            86.129877\n",
       "Price                17.013650\n",
       "dtype: float64"
      ]
     },
     "execution_count": 9,
     "metadata": {},
     "output_type": "execute_result"
    }
   ],
   "source": [
    "(df.isnull().sum()/(len(df)))*100"
   ]
  },
  {
   "cell_type": "markdown",
   "id": "feb33238",
   "metadata": {},
   "source": [
    "#### Observations:\n",
    "\n",
    "This preview shows that some columns potentially have a lot of missingness so we'll want to make sure to look into that later.\n",
    "- New_Price has only 1006 values. 86 % values are missing\n",
    "- Price, which is a Target variable 17 % missing values.This needs to be analysed further.\n",
    "- Seats has only 53 values missing and number of seats can be one of key factor in deciding price.\n",
    "- Power and Engine has 46 missing values.\n",
    "- Mileage only has two values missing.\n",
    "- Mileage,Power,Engine,New_Price we know are quantitative variables but are of object dtype here and needs to to converted to numeric."
   ]
  },
  {
   "cell_type": "markdown",
   "id": "0f5b5678",
   "metadata": {},
   "source": [
    "## Step 3: Data Reduction\n",
    "Some columns or variables can be dropped if they do not add value to our analysis.\n",
    "\n",
    "In our dataset, the column S.No have only ID values, assuming they don’t have any predictive power to predict the dependent variable."
   ]
  },
  {
   "cell_type": "code",
   "execution_count": 10,
   "id": "68e1a20b",
   "metadata": {},
   "outputs": [],
   "source": [
    "df.drop(['S.No.'],axis=1,inplace=True)"
   ]
  },
  {
   "cell_type": "code",
   "execution_count": 11,
   "id": "ab9f205f",
   "metadata": {},
   "outputs": [
    {
     "data": {
      "text/html": [
       "<div>\n",
       "<style scoped>\n",
       "    .dataframe tbody tr th:only-of-type {\n",
       "        vertical-align: middle;\n",
       "    }\n",
       "\n",
       "    .dataframe tbody tr th {\n",
       "        vertical-align: top;\n",
       "    }\n",
       "\n",
       "    .dataframe thead th {\n",
       "        text-align: right;\n",
       "    }\n",
       "</style>\n",
       "<table border=\"1\" class=\"dataframe\">\n",
       "  <thead>\n",
       "    <tr style=\"text-align: right;\">\n",
       "      <th></th>\n",
       "      <th>Name</th>\n",
       "      <th>Location</th>\n",
       "      <th>Year</th>\n",
       "      <th>Kilometers_Driven</th>\n",
       "      <th>Fuel_Type</th>\n",
       "      <th>Transmission</th>\n",
       "      <th>Owner_Type</th>\n",
       "      <th>Mileage</th>\n",
       "      <th>Engine</th>\n",
       "      <th>Power</th>\n",
       "      <th>Seats</th>\n",
       "      <th>New_Price</th>\n",
       "      <th>Price</th>\n",
       "    </tr>\n",
       "  </thead>\n",
       "  <tbody>\n",
       "    <tr>\n",
       "      <th>0</th>\n",
       "      <td>Maruti Wagon R LXI CNG</td>\n",
       "      <td>Mumbai</td>\n",
       "      <td>2010</td>\n",
       "      <td>72000</td>\n",
       "      <td>CNG</td>\n",
       "      <td>Manual</td>\n",
       "      <td>First</td>\n",
       "      <td>26.6 km/kg</td>\n",
       "      <td>998 CC</td>\n",
       "      <td>58.16 bhp</td>\n",
       "      <td>5.0</td>\n",
       "      <td>NaN</td>\n",
       "      <td>1.75</td>\n",
       "    </tr>\n",
       "    <tr>\n",
       "      <th>1</th>\n",
       "      <td>Hyundai Creta 1.6 CRDi SX Option</td>\n",
       "      <td>Pune</td>\n",
       "      <td>2015</td>\n",
       "      <td>41000</td>\n",
       "      <td>Diesel</td>\n",
       "      <td>Manual</td>\n",
       "      <td>First</td>\n",
       "      <td>19.67 kmpl</td>\n",
       "      <td>1582 CC</td>\n",
       "      <td>126.2 bhp</td>\n",
       "      <td>5.0</td>\n",
       "      <td>NaN</td>\n",
       "      <td>12.50</td>\n",
       "    </tr>\n",
       "    <tr>\n",
       "      <th>2</th>\n",
       "      <td>Honda Jazz V</td>\n",
       "      <td>Chennai</td>\n",
       "      <td>2011</td>\n",
       "      <td>46000</td>\n",
       "      <td>Petrol</td>\n",
       "      <td>Manual</td>\n",
       "      <td>First</td>\n",
       "      <td>18.2 kmpl</td>\n",
       "      <td>1199 CC</td>\n",
       "      <td>88.7 bhp</td>\n",
       "      <td>5.0</td>\n",
       "      <td>8.61 Lakh</td>\n",
       "      <td>4.50</td>\n",
       "    </tr>\n",
       "    <tr>\n",
       "      <th>3</th>\n",
       "      <td>Maruti Ertiga VDI</td>\n",
       "      <td>Chennai</td>\n",
       "      <td>2012</td>\n",
       "      <td>87000</td>\n",
       "      <td>Diesel</td>\n",
       "      <td>Manual</td>\n",
       "      <td>First</td>\n",
       "      <td>20.77 kmpl</td>\n",
       "      <td>1248 CC</td>\n",
       "      <td>88.76 bhp</td>\n",
       "      <td>7.0</td>\n",
       "      <td>NaN</td>\n",
       "      <td>6.00</td>\n",
       "    </tr>\n",
       "    <tr>\n",
       "      <th>4</th>\n",
       "      <td>Audi A4 New 2.0 TDI Multitronic</td>\n",
       "      <td>Coimbatore</td>\n",
       "      <td>2013</td>\n",
       "      <td>40670</td>\n",
       "      <td>Diesel</td>\n",
       "      <td>Automatic</td>\n",
       "      <td>Second</td>\n",
       "      <td>15.2 kmpl</td>\n",
       "      <td>1968 CC</td>\n",
       "      <td>140.8 bhp</td>\n",
       "      <td>5.0</td>\n",
       "      <td>NaN</td>\n",
       "      <td>17.74</td>\n",
       "    </tr>\n",
       "  </tbody>\n",
       "</table>\n",
       "</div>"
      ],
      "text/plain": [
       "                               Name    Location  Year  Kilometers_Driven  \\\n",
       "0            Maruti Wagon R LXI CNG      Mumbai  2010              72000   \n",
       "1  Hyundai Creta 1.6 CRDi SX Option        Pune  2015              41000   \n",
       "2                      Honda Jazz V     Chennai  2011              46000   \n",
       "3                 Maruti Ertiga VDI     Chennai  2012              87000   \n",
       "4   Audi A4 New 2.0 TDI Multitronic  Coimbatore  2013              40670   \n",
       "\n",
       "  Fuel_Type Transmission Owner_Type     Mileage   Engine      Power  Seats  \\\n",
       "0       CNG       Manual      First  26.6 km/kg   998 CC  58.16 bhp    5.0   \n",
       "1    Diesel       Manual      First  19.67 kmpl  1582 CC  126.2 bhp    5.0   \n",
       "2    Petrol       Manual      First   18.2 kmpl  1199 CC   88.7 bhp    5.0   \n",
       "3    Diesel       Manual      First  20.77 kmpl  1248 CC  88.76 bhp    7.0   \n",
       "4    Diesel    Automatic     Second   15.2 kmpl  1968 CC  140.8 bhp    5.0   \n",
       "\n",
       "   New_Price  Price  \n",
       "0        NaN   1.75  \n",
       "1        NaN  12.50  \n",
       "2  8.61 Lakh   4.50  \n",
       "3        NaN   6.00  \n",
       "4        NaN  17.74  "
      ]
     },
     "execution_count": 11,
     "metadata": {},
     "output_type": "execute_result"
    }
   ],
   "source": [
    "df.head()"
   ]
  },
  {
   "cell_type": "markdown",
   "id": "1c31ba52",
   "metadata": {},
   "source": [
    "## Step 4: Creating Features\n",
    "It would be difficult to find the car’s age if it is in year format as the Age of the car is a contributing factor to Car Price. \n",
    "\n",
    "Introducing a new column, “Car_Age” to know the age of the car"
   ]
  },
  {
   "cell_type": "code",
   "execution_count": 12,
   "id": "10bc2d7c",
   "metadata": {},
   "outputs": [
    {
     "data": {
      "text/html": [
       "<div>\n",
       "<style scoped>\n",
       "    .dataframe tbody tr th:only-of-type {\n",
       "        vertical-align: middle;\n",
       "    }\n",
       "\n",
       "    .dataframe tbody tr th {\n",
       "        vertical-align: top;\n",
       "    }\n",
       "\n",
       "    .dataframe thead th {\n",
       "        text-align: right;\n",
       "    }\n",
       "</style>\n",
       "<table border=\"1\" class=\"dataframe\">\n",
       "  <thead>\n",
       "    <tr style=\"text-align: right;\">\n",
       "      <th></th>\n",
       "      <th>Name</th>\n",
       "      <th>Location</th>\n",
       "      <th>Year</th>\n",
       "      <th>Kilometers_Driven</th>\n",
       "      <th>Fuel_Type</th>\n",
       "      <th>Transmission</th>\n",
       "      <th>Owner_Type</th>\n",
       "      <th>Mileage</th>\n",
       "      <th>Engine</th>\n",
       "      <th>Power</th>\n",
       "      <th>Seats</th>\n",
       "      <th>New_Price</th>\n",
       "      <th>Price</th>\n",
       "      <th>Car_Age</th>\n",
       "    </tr>\n",
       "  </thead>\n",
       "  <tbody>\n",
       "    <tr>\n",
       "      <th>0</th>\n",
       "      <td>Maruti Wagon R LXI CNG</td>\n",
       "      <td>Mumbai</td>\n",
       "      <td>2010</td>\n",
       "      <td>72000</td>\n",
       "      <td>CNG</td>\n",
       "      <td>Manual</td>\n",
       "      <td>First</td>\n",
       "      <td>26.6 km/kg</td>\n",
       "      <td>998 CC</td>\n",
       "      <td>58.16 bhp</td>\n",
       "      <td>5.0</td>\n",
       "      <td>NaN</td>\n",
       "      <td>1.75</td>\n",
       "      <td>14</td>\n",
       "    </tr>\n",
       "    <tr>\n",
       "      <th>1</th>\n",
       "      <td>Hyundai Creta 1.6 CRDi SX Option</td>\n",
       "      <td>Pune</td>\n",
       "      <td>2015</td>\n",
       "      <td>41000</td>\n",
       "      <td>Diesel</td>\n",
       "      <td>Manual</td>\n",
       "      <td>First</td>\n",
       "      <td>19.67 kmpl</td>\n",
       "      <td>1582 CC</td>\n",
       "      <td>126.2 bhp</td>\n",
       "      <td>5.0</td>\n",
       "      <td>NaN</td>\n",
       "      <td>12.50</td>\n",
       "      <td>9</td>\n",
       "    </tr>\n",
       "    <tr>\n",
       "      <th>2</th>\n",
       "      <td>Honda Jazz V</td>\n",
       "      <td>Chennai</td>\n",
       "      <td>2011</td>\n",
       "      <td>46000</td>\n",
       "      <td>Petrol</td>\n",
       "      <td>Manual</td>\n",
       "      <td>First</td>\n",
       "      <td>18.2 kmpl</td>\n",
       "      <td>1199 CC</td>\n",
       "      <td>88.7 bhp</td>\n",
       "      <td>5.0</td>\n",
       "      <td>8.61 Lakh</td>\n",
       "      <td>4.50</td>\n",
       "      <td>13</td>\n",
       "    </tr>\n",
       "    <tr>\n",
       "      <th>3</th>\n",
       "      <td>Maruti Ertiga VDI</td>\n",
       "      <td>Chennai</td>\n",
       "      <td>2012</td>\n",
       "      <td>87000</td>\n",
       "      <td>Diesel</td>\n",
       "      <td>Manual</td>\n",
       "      <td>First</td>\n",
       "      <td>20.77 kmpl</td>\n",
       "      <td>1248 CC</td>\n",
       "      <td>88.76 bhp</td>\n",
       "      <td>7.0</td>\n",
       "      <td>NaN</td>\n",
       "      <td>6.00</td>\n",
       "      <td>12</td>\n",
       "    </tr>\n",
       "    <tr>\n",
       "      <th>4</th>\n",
       "      <td>Audi A4 New 2.0 TDI Multitronic</td>\n",
       "      <td>Coimbatore</td>\n",
       "      <td>2013</td>\n",
       "      <td>40670</td>\n",
       "      <td>Diesel</td>\n",
       "      <td>Automatic</td>\n",
       "      <td>Second</td>\n",
       "      <td>15.2 kmpl</td>\n",
       "      <td>1968 CC</td>\n",
       "      <td>140.8 bhp</td>\n",
       "      <td>5.0</td>\n",
       "      <td>NaN</td>\n",
       "      <td>17.74</td>\n",
       "      <td>11</td>\n",
       "    </tr>\n",
       "  </tbody>\n",
       "</table>\n",
       "</div>"
      ],
      "text/plain": [
       "                               Name    Location  Year  Kilometers_Driven  \\\n",
       "0            Maruti Wagon R LXI CNG      Mumbai  2010              72000   \n",
       "1  Hyundai Creta 1.6 CRDi SX Option        Pune  2015              41000   \n",
       "2                      Honda Jazz V     Chennai  2011              46000   \n",
       "3                 Maruti Ertiga VDI     Chennai  2012              87000   \n",
       "4   Audi A4 New 2.0 TDI Multitronic  Coimbatore  2013              40670   \n",
       "\n",
       "  Fuel_Type Transmission Owner_Type     Mileage   Engine      Power  Seats  \\\n",
       "0       CNG       Manual      First  26.6 km/kg   998 CC  58.16 bhp    5.0   \n",
       "1    Diesel       Manual      First  19.67 kmpl  1582 CC  126.2 bhp    5.0   \n",
       "2    Petrol       Manual      First   18.2 kmpl  1199 CC   88.7 bhp    5.0   \n",
       "3    Diesel       Manual      First  20.77 kmpl  1248 CC  88.76 bhp    7.0   \n",
       "4    Diesel    Automatic     Second   15.2 kmpl  1968 CC  140.8 bhp    5.0   \n",
       "\n",
       "   New_Price  Price  Car_Age  \n",
       "0        NaN   1.75       14  \n",
       "1        NaN  12.50        9  \n",
       "2  8.61 Lakh   4.50       13  \n",
       "3        NaN   6.00       12  \n",
       "4        NaN  17.74       11  "
      ]
     },
     "execution_count": 12,
     "metadata": {},
     "output_type": "execute_result"
    }
   ],
   "source": [
    "from datetime import date\n",
    "year_now=date.today().year\n",
    "df['Car_Age']=year_now-df['Year']\n",
    "df.head()"
   ]
  },
  {
   "cell_type": "markdown",
   "id": "ead337af",
   "metadata": {},
   "source": [
    "- Since car names will not be great predictors of the price in our current data. But we can process this column to extract important information using brand and Model names. Let’s split the name and introduce new variables “Brand” and “Model”"
   ]
  },
  {
   "cell_type": "code",
   "execution_count": 13,
   "id": "cb5625e6",
   "metadata": {},
   "outputs": [
    {
     "data": {
      "text/html": [
       "<div>\n",
       "<style scoped>\n",
       "    .dataframe tbody tr th:only-of-type {\n",
       "        vertical-align: middle;\n",
       "    }\n",
       "\n",
       "    .dataframe tbody tr th {\n",
       "        vertical-align: top;\n",
       "    }\n",
       "\n",
       "    .dataframe thead th {\n",
       "        text-align: right;\n",
       "    }\n",
       "</style>\n",
       "<table border=\"1\" class=\"dataframe\">\n",
       "  <thead>\n",
       "    <tr style=\"text-align: right;\">\n",
       "      <th></th>\n",
       "      <th>Name</th>\n",
       "      <th>Brand</th>\n",
       "      <th>Model</th>\n",
       "    </tr>\n",
       "  </thead>\n",
       "  <tbody>\n",
       "    <tr>\n",
       "      <th>0</th>\n",
       "      <td>Maruti Wagon R LXI CNG</td>\n",
       "      <td>Maruti</td>\n",
       "      <td>WagonR</td>\n",
       "    </tr>\n",
       "    <tr>\n",
       "      <th>1</th>\n",
       "      <td>Hyundai Creta 1.6 CRDi SX Option</td>\n",
       "      <td>Hyundai</td>\n",
       "      <td>Creta1.6</td>\n",
       "    </tr>\n",
       "    <tr>\n",
       "      <th>2</th>\n",
       "      <td>Honda Jazz V</td>\n",
       "      <td>Honda</td>\n",
       "      <td>JazzV</td>\n",
       "    </tr>\n",
       "    <tr>\n",
       "      <th>3</th>\n",
       "      <td>Maruti Ertiga VDI</td>\n",
       "      <td>Maruti</td>\n",
       "      <td>ErtigaVDI</td>\n",
       "    </tr>\n",
       "    <tr>\n",
       "      <th>4</th>\n",
       "      <td>Audi A4 New 2.0 TDI Multitronic</td>\n",
       "      <td>Audi</td>\n",
       "      <td>A4New</td>\n",
       "    </tr>\n",
       "    <tr>\n",
       "      <th>...</th>\n",
       "      <td>...</td>\n",
       "      <td>...</td>\n",
       "      <td>...</td>\n",
       "    </tr>\n",
       "    <tr>\n",
       "      <th>7248</th>\n",
       "      <td>Volkswagen Vento Diesel Trendline</td>\n",
       "      <td>Volkswagen</td>\n",
       "      <td>VentoDiesel</td>\n",
       "    </tr>\n",
       "    <tr>\n",
       "      <th>7249</th>\n",
       "      <td>Volkswagen Polo GT TSI</td>\n",
       "      <td>Volkswagen</td>\n",
       "      <td>PoloGT</td>\n",
       "    </tr>\n",
       "    <tr>\n",
       "      <th>7250</th>\n",
       "      <td>Nissan Micra Diesel XV</td>\n",
       "      <td>Nissan</td>\n",
       "      <td>MicraDiesel</td>\n",
       "    </tr>\n",
       "    <tr>\n",
       "      <th>7251</th>\n",
       "      <td>Volkswagen Polo GT TSI</td>\n",
       "      <td>Volkswagen</td>\n",
       "      <td>PoloGT</td>\n",
       "    </tr>\n",
       "    <tr>\n",
       "      <th>7252</th>\n",
       "      <td>Mercedes-Benz E-Class 2009-2013 E 220 CDI Avan...</td>\n",
       "      <td>Mercedes-Benz</td>\n",
       "      <td>E-Class2009-2013</td>\n",
       "    </tr>\n",
       "  </tbody>\n",
       "</table>\n",
       "<p>7253 rows × 3 columns</p>\n",
       "</div>"
      ],
      "text/plain": [
       "                                                   Name          Brand  \\\n",
       "0                                Maruti Wagon R LXI CNG         Maruti   \n",
       "1                      Hyundai Creta 1.6 CRDi SX Option        Hyundai   \n",
       "2                                          Honda Jazz V          Honda   \n",
       "3                                     Maruti Ertiga VDI         Maruti   \n",
       "4                       Audi A4 New 2.0 TDI Multitronic           Audi   \n",
       "...                                                 ...            ...   \n",
       "7248                  Volkswagen Vento Diesel Trendline     Volkswagen   \n",
       "7249                             Volkswagen Polo GT TSI     Volkswagen   \n",
       "7250                             Nissan Micra Diesel XV         Nissan   \n",
       "7251                             Volkswagen Polo GT TSI     Volkswagen   \n",
       "7252  Mercedes-Benz E-Class 2009-2013 E 220 CDI Avan...  Mercedes-Benz   \n",
       "\n",
       "                 Model  \n",
       "0               WagonR  \n",
       "1             Creta1.6  \n",
       "2                JazzV  \n",
       "3            ErtigaVDI  \n",
       "4                A4New  \n",
       "...                ...  \n",
       "7248       VentoDiesel  \n",
       "7249            PoloGT  \n",
       "7250       MicraDiesel  \n",
       "7251            PoloGT  \n",
       "7252  E-Class2009-2013  \n",
       "\n",
       "[7253 rows x 3 columns]"
      ]
     },
     "execution_count": 13,
     "metadata": {},
     "output_type": "execute_result"
    }
   ],
   "source": [
    "df['Brand'] = df.Name.str.split().str.get(0)\n",
    "df['Model'] = df.Name.str.split().str.get(1) + df.Name.str.split().str.get(2)\n",
    "df[['Name','Brand','Model']]"
   ]
  },
  {
   "cell_type": "code",
   "execution_count": 14,
   "id": "b4415b45",
   "metadata": {},
   "outputs": [
    {
     "data": {
      "text/html": [
       "<div>\n",
       "<style scoped>\n",
       "    .dataframe tbody tr th:only-of-type {\n",
       "        vertical-align: middle;\n",
       "    }\n",
       "\n",
       "    .dataframe tbody tr th {\n",
       "        vertical-align: top;\n",
       "    }\n",
       "\n",
       "    .dataframe thead th {\n",
       "        text-align: right;\n",
       "    }\n",
       "</style>\n",
       "<table border=\"1\" class=\"dataframe\">\n",
       "  <thead>\n",
       "    <tr style=\"text-align: right;\">\n",
       "      <th></th>\n",
       "      <th>Name</th>\n",
       "      <th>Location</th>\n",
       "      <th>Year</th>\n",
       "      <th>Kilometers_Driven</th>\n",
       "      <th>Fuel_Type</th>\n",
       "      <th>Transmission</th>\n",
       "      <th>Owner_Type</th>\n",
       "      <th>Mileage</th>\n",
       "      <th>Engine</th>\n",
       "      <th>Power</th>\n",
       "      <th>Seats</th>\n",
       "      <th>New_Price</th>\n",
       "      <th>Price</th>\n",
       "      <th>Car_Age</th>\n",
       "      <th>Brand</th>\n",
       "      <th>Model</th>\n",
       "    </tr>\n",
       "  </thead>\n",
       "  <tbody>\n",
       "    <tr>\n",
       "      <th>0</th>\n",
       "      <td>Maruti Wagon R LXI CNG</td>\n",
       "      <td>Mumbai</td>\n",
       "      <td>2010</td>\n",
       "      <td>72000</td>\n",
       "      <td>CNG</td>\n",
       "      <td>Manual</td>\n",
       "      <td>First</td>\n",
       "      <td>26.6 km/kg</td>\n",
       "      <td>998 CC</td>\n",
       "      <td>58.16 bhp</td>\n",
       "      <td>5.0</td>\n",
       "      <td>NaN</td>\n",
       "      <td>1.75</td>\n",
       "      <td>14</td>\n",
       "      <td>Maruti</td>\n",
       "      <td>WagonR</td>\n",
       "    </tr>\n",
       "    <tr>\n",
       "      <th>1</th>\n",
       "      <td>Hyundai Creta 1.6 CRDi SX Option</td>\n",
       "      <td>Pune</td>\n",
       "      <td>2015</td>\n",
       "      <td>41000</td>\n",
       "      <td>Diesel</td>\n",
       "      <td>Manual</td>\n",
       "      <td>First</td>\n",
       "      <td>19.67 kmpl</td>\n",
       "      <td>1582 CC</td>\n",
       "      <td>126.2 bhp</td>\n",
       "      <td>5.0</td>\n",
       "      <td>NaN</td>\n",
       "      <td>12.50</td>\n",
       "      <td>9</td>\n",
       "      <td>Hyundai</td>\n",
       "      <td>Creta1.6</td>\n",
       "    </tr>\n",
       "    <tr>\n",
       "      <th>2</th>\n",
       "      <td>Honda Jazz V</td>\n",
       "      <td>Chennai</td>\n",
       "      <td>2011</td>\n",
       "      <td>46000</td>\n",
       "      <td>Petrol</td>\n",
       "      <td>Manual</td>\n",
       "      <td>First</td>\n",
       "      <td>18.2 kmpl</td>\n",
       "      <td>1199 CC</td>\n",
       "      <td>88.7 bhp</td>\n",
       "      <td>5.0</td>\n",
       "      <td>8.61 Lakh</td>\n",
       "      <td>4.50</td>\n",
       "      <td>13</td>\n",
       "      <td>Honda</td>\n",
       "      <td>JazzV</td>\n",
       "    </tr>\n",
       "    <tr>\n",
       "      <th>3</th>\n",
       "      <td>Maruti Ertiga VDI</td>\n",
       "      <td>Chennai</td>\n",
       "      <td>2012</td>\n",
       "      <td>87000</td>\n",
       "      <td>Diesel</td>\n",
       "      <td>Manual</td>\n",
       "      <td>First</td>\n",
       "      <td>20.77 kmpl</td>\n",
       "      <td>1248 CC</td>\n",
       "      <td>88.76 bhp</td>\n",
       "      <td>7.0</td>\n",
       "      <td>NaN</td>\n",
       "      <td>6.00</td>\n",
       "      <td>12</td>\n",
       "      <td>Maruti</td>\n",
       "      <td>ErtigaVDI</td>\n",
       "    </tr>\n",
       "    <tr>\n",
       "      <th>4</th>\n",
       "      <td>Audi A4 New 2.0 TDI Multitronic</td>\n",
       "      <td>Coimbatore</td>\n",
       "      <td>2013</td>\n",
       "      <td>40670</td>\n",
       "      <td>Diesel</td>\n",
       "      <td>Automatic</td>\n",
       "      <td>Second</td>\n",
       "      <td>15.2 kmpl</td>\n",
       "      <td>1968 CC</td>\n",
       "      <td>140.8 bhp</td>\n",
       "      <td>5.0</td>\n",
       "      <td>NaN</td>\n",
       "      <td>17.74</td>\n",
       "      <td>11</td>\n",
       "      <td>Audi</td>\n",
       "      <td>A4New</td>\n",
       "    </tr>\n",
       "  </tbody>\n",
       "</table>\n",
       "</div>"
      ],
      "text/plain": [
       "                               Name    Location  Year  Kilometers_Driven  \\\n",
       "0            Maruti Wagon R LXI CNG      Mumbai  2010              72000   \n",
       "1  Hyundai Creta 1.6 CRDi SX Option        Pune  2015              41000   \n",
       "2                      Honda Jazz V     Chennai  2011              46000   \n",
       "3                 Maruti Ertiga VDI     Chennai  2012              87000   \n",
       "4   Audi A4 New 2.0 TDI Multitronic  Coimbatore  2013              40670   \n",
       "\n",
       "  Fuel_Type Transmission Owner_Type     Mileage   Engine      Power  Seats  \\\n",
       "0       CNG       Manual      First  26.6 km/kg   998 CC  58.16 bhp    5.0   \n",
       "1    Diesel       Manual      First  19.67 kmpl  1582 CC  126.2 bhp    5.0   \n",
       "2    Petrol       Manual      First   18.2 kmpl  1199 CC   88.7 bhp    5.0   \n",
       "3    Diesel       Manual      First  20.77 kmpl  1248 CC  88.76 bhp    7.0   \n",
       "4    Diesel    Automatic     Second   15.2 kmpl  1968 CC  140.8 bhp    5.0   \n",
       "\n",
       "   New_Price  Price  Car_Age    Brand      Model  \n",
       "0        NaN   1.75       14   Maruti     WagonR  \n",
       "1        NaN  12.50        9  Hyundai   Creta1.6  \n",
       "2  8.61 Lakh   4.50       13    Honda      JazzV  \n",
       "3        NaN   6.00       12   Maruti  ErtigaVDI  \n",
       "4        NaN  17.74       11     Audi      A4New  "
      ]
     },
     "execution_count": 14,
     "metadata": {},
     "output_type": "execute_result"
    }
   ],
   "source": [
    "df.head()"
   ]
  },
  {
   "cell_type": "code",
   "execution_count": 15,
   "id": "02e6bf01",
   "metadata": {},
   "outputs": [],
   "source": [
    "df['Power_num'] = df.Power.str.split().str.get(0)\n",
    "df['Power_Unit'] = df.Power.str.split().str.get(1) \n",
    "y=df[['Power','Power_num','Power_Unit']]"
   ]
  },
  {
   "cell_type": "code",
   "execution_count": 16,
   "id": "86a1f1e2",
   "metadata": {},
   "outputs": [
    {
     "data": {
      "text/html": [
       "<div>\n",
       "<style scoped>\n",
       "    .dataframe tbody tr th:only-of-type {\n",
       "        vertical-align: middle;\n",
       "    }\n",
       "\n",
       "    .dataframe tbody tr th {\n",
       "        vertical-align: top;\n",
       "    }\n",
       "\n",
       "    .dataframe thead th {\n",
       "        text-align: right;\n",
       "    }\n",
       "</style>\n",
       "<table border=\"1\" class=\"dataframe\">\n",
       "  <thead>\n",
       "    <tr style=\"text-align: right;\">\n",
       "      <th></th>\n",
       "      <th>Power</th>\n",
       "      <th>Power_num</th>\n",
       "      <th>Power_Unit</th>\n",
       "    </tr>\n",
       "  </thead>\n",
       "  <tbody>\n",
       "    <tr>\n",
       "      <th>0</th>\n",
       "      <td>58.16 bhp</td>\n",
       "      <td>58.16</td>\n",
       "      <td>bhp</td>\n",
       "    </tr>\n",
       "    <tr>\n",
       "      <th>1</th>\n",
       "      <td>126.2 bhp</td>\n",
       "      <td>126.2</td>\n",
       "      <td>bhp</td>\n",
       "    </tr>\n",
       "    <tr>\n",
       "      <th>2</th>\n",
       "      <td>88.7 bhp</td>\n",
       "      <td>88.7</td>\n",
       "      <td>bhp</td>\n",
       "    </tr>\n",
       "    <tr>\n",
       "      <th>3</th>\n",
       "      <td>88.76 bhp</td>\n",
       "      <td>88.76</td>\n",
       "      <td>bhp</td>\n",
       "    </tr>\n",
       "    <tr>\n",
       "      <th>4</th>\n",
       "      <td>140.8 bhp</td>\n",
       "      <td>140.8</td>\n",
       "      <td>bhp</td>\n",
       "    </tr>\n",
       "    <tr>\n",
       "      <th>...</th>\n",
       "      <td>...</td>\n",
       "      <td>...</td>\n",
       "      <td>...</td>\n",
       "    </tr>\n",
       "    <tr>\n",
       "      <th>7248</th>\n",
       "      <td>103.6 bhp</td>\n",
       "      <td>103.6</td>\n",
       "      <td>bhp</td>\n",
       "    </tr>\n",
       "    <tr>\n",
       "      <th>7249</th>\n",
       "      <td>103.6 bhp</td>\n",
       "      <td>103.6</td>\n",
       "      <td>bhp</td>\n",
       "    </tr>\n",
       "    <tr>\n",
       "      <th>7250</th>\n",
       "      <td>63.1 bhp</td>\n",
       "      <td>63.1</td>\n",
       "      <td>bhp</td>\n",
       "    </tr>\n",
       "    <tr>\n",
       "      <th>7251</th>\n",
       "      <td>103.6 bhp</td>\n",
       "      <td>103.6</td>\n",
       "      <td>bhp</td>\n",
       "    </tr>\n",
       "    <tr>\n",
       "      <th>7252</th>\n",
       "      <td>170 bhp</td>\n",
       "      <td>170</td>\n",
       "      <td>bhp</td>\n",
       "    </tr>\n",
       "  </tbody>\n",
       "</table>\n",
       "<p>7253 rows × 3 columns</p>\n",
       "</div>"
      ],
      "text/plain": [
       "          Power Power_num Power_Unit\n",
       "0     58.16 bhp     58.16        bhp\n",
       "1     126.2 bhp     126.2        bhp\n",
       "2      88.7 bhp      88.7        bhp\n",
       "3     88.76 bhp     88.76        bhp\n",
       "4     140.8 bhp     140.8        bhp\n",
       "...         ...       ...        ...\n",
       "7248  103.6 bhp     103.6        bhp\n",
       "7249  103.6 bhp     103.6        bhp\n",
       "7250   63.1 bhp      63.1        bhp\n",
       "7251  103.6 bhp     103.6        bhp\n",
       "7252    170 bhp       170        bhp\n",
       "\n",
       "[7253 rows x 3 columns]"
      ]
     },
     "execution_count": 16,
     "metadata": {},
     "output_type": "execute_result"
    }
   ],
   "source": [
    "y"
   ]
  },
  {
   "cell_type": "code",
   "execution_count": 17,
   "id": "01b68bfd",
   "metadata": {},
   "outputs": [
    {
     "name": "stdout",
     "output_type": "stream",
     "text": [
      "<class 'pandas.core.frame.DataFrame'>\n",
      "RangeIndex: 7253 entries, 0 to 7252\n",
      "Data columns (total 3 columns):\n",
      " #   Column      Non-Null Count  Dtype \n",
      "---  ------      --------------  ----- \n",
      " 0   Power       7207 non-null   object\n",
      " 1   Power_num   7207 non-null   object\n",
      " 2   Power_Unit  7207 non-null   object\n",
      "dtypes: object(3)\n",
      "memory usage: 170.1+ KB\n"
     ]
    }
   ],
   "source": [
    "y.info()"
   ]
  },
  {
   "cell_type": "code",
   "execution_count": 18,
   "id": "db12fc69",
   "metadata": {
    "scrolled": true
   },
   "outputs": [
    {
     "ename": "ValueError",
     "evalue": "Unable to parse string \"null\" at position 76",
     "output_type": "error",
     "traceback": [
      "\u001b[1;31m---------------------------------------------------------------------------\u001b[0m",
      "\u001b[1;31mValueError\u001b[0m                                Traceback (most recent call last)",
      "\u001b[1;32mlib.pyx\u001b[0m in \u001b[0;36mpandas._libs.lib.maybe_convert_numeric\u001b[1;34m()\u001b[0m\n",
      "\u001b[1;31mValueError\u001b[0m: Unable to parse string \"null\"",
      "\nDuring handling of the above exception, another exception occurred:\n",
      "\u001b[1;31mValueError\u001b[0m                                Traceback (most recent call last)",
      "\u001b[1;32m~\\AppData\\Local\\Temp\\ipykernel_4964\\3221063223.py\u001b[0m in \u001b[0;36m<module>\u001b[1;34m\u001b[0m\n\u001b[1;32m----> 1\u001b[1;33m \u001b[0mdf\u001b[0m\u001b[1;33m[\u001b[0m\u001b[1;34m'Power_num'\u001b[0m\u001b[1;33m]\u001b[0m \u001b[1;33m=\u001b[0m \u001b[0mpd\u001b[0m\u001b[1;33m.\u001b[0m\u001b[0mto_numeric\u001b[0m\u001b[1;33m(\u001b[0m\u001b[0mdf\u001b[0m\u001b[1;33m[\u001b[0m\u001b[1;34m'Power_num'\u001b[0m\u001b[1;33m]\u001b[0m\u001b[1;33m)\u001b[0m\u001b[1;33m\u001b[0m\u001b[1;33m\u001b[0m\u001b[0m\n\u001b[0m",
      "\u001b[1;32m~\\AppData\\Roaming\\Python\\Python39\\site-packages\\pandas\\core\\tools\\numeric.py\u001b[0m in \u001b[0;36mto_numeric\u001b[1;34m(arg, errors, downcast, dtype_backend)\u001b[0m\n\u001b[0;32m    230\u001b[0m         \u001b[0mcoerce_numeric\u001b[0m \u001b[1;33m=\u001b[0m \u001b[0merrors\u001b[0m \u001b[1;32mnot\u001b[0m \u001b[1;32min\u001b[0m \u001b[1;33m(\u001b[0m\u001b[1;34m\"ignore\"\u001b[0m\u001b[1;33m,\u001b[0m \u001b[1;34m\"raise\"\u001b[0m\u001b[1;33m)\u001b[0m\u001b[1;33m\u001b[0m\u001b[1;33m\u001b[0m\u001b[0m\n\u001b[0;32m    231\u001b[0m         \u001b[1;32mtry\u001b[0m\u001b[1;33m:\u001b[0m\u001b[1;33m\u001b[0m\u001b[1;33m\u001b[0m\u001b[0m\n\u001b[1;32m--> 232\u001b[1;33m             values, new_mask = lib.maybe_convert_numeric(  # type: ignore[call-overload]\n\u001b[0m\u001b[0;32m    233\u001b[0m                 \u001b[0mvalues\u001b[0m\u001b[1;33m,\u001b[0m\u001b[1;33m\u001b[0m\u001b[1;33m\u001b[0m\u001b[0m\n\u001b[0;32m    234\u001b[0m                 \u001b[0mset\u001b[0m\u001b[1;33m(\u001b[0m\u001b[1;33m)\u001b[0m\u001b[1;33m,\u001b[0m\u001b[1;33m\u001b[0m\u001b[1;33m\u001b[0m\u001b[0m\n",
      "\u001b[1;32mlib.pyx\u001b[0m in \u001b[0;36mpandas._libs.lib.maybe_convert_numeric\u001b[1;34m()\u001b[0m\n",
      "\u001b[1;31mValueError\u001b[0m: Unable to parse string \"null\" at position 76"
     ]
    }
   ],
   "source": [
    "df['Power_num'] = pd.to_numeric(df['Power_num'])"
   ]
  },
  {
   "cell_type": "code",
   "execution_count": 23,
   "id": "f9f5ee8f",
   "metadata": {},
   "outputs": [],
   "source": [
    "df = df[df['Power_num'] != 'null']"
   ]
  },
  {
   "cell_type": "code",
   "execution_count": 24,
   "id": "2e26ba7b",
   "metadata": {},
   "outputs": [
    {
     "name": "stdout",
     "output_type": "stream",
     "text": [
      "<class 'pandas.core.frame.DataFrame'>\n",
      "Index: 7124 entries, 0 to 7252\n",
      "Data columns (total 18 columns):\n",
      " #   Column             Non-Null Count  Dtype  \n",
      "---  ------             --------------  -----  \n",
      " 0   Name               7124 non-null   object \n",
      " 1   Location           7124 non-null   object \n",
      " 2   Year               7124 non-null   int64  \n",
      " 3   Kilometers_Driven  7124 non-null   int64  \n",
      " 4   Fuel_Type          7124 non-null   object \n",
      " 5   Transmission       7124 non-null   object \n",
      " 6   Owner_Type         7124 non-null   object \n",
      " 7   Mileage            7122 non-null   object \n",
      " 8   Engine             7078 non-null   object \n",
      " 9   Power              7078 non-null   object \n",
      " 10  Seats              7075 non-null   float64\n",
      " 11  New_Price          1006 non-null   object \n",
      " 12  Price              5912 non-null   float64\n",
      " 13  Car_Age            7124 non-null   int64  \n",
      " 14  Brand              7124 non-null   object \n",
      " 15  Model              7123 non-null   object \n",
      " 16  Power_num          7078 non-null   object \n",
      " 17  Power_Unit         7078 non-null   object \n",
      "dtypes: float64(2), int64(3), object(13)\n",
      "memory usage: 1.0+ MB\n"
     ]
    }
   ],
   "source": [
    "df.info()"
   ]
  },
  {
   "cell_type": "code",
   "execution_count": 25,
   "id": "86a0646f",
   "metadata": {},
   "outputs": [
    {
     "data": {
      "text/plain": [
       "Name                 1991\n",
       "Location               11\n",
       "Year                   22\n",
       "Kilometers_Driven    3610\n",
       "Fuel_Type               5\n",
       "Transmission            2\n",
       "Owner_Type              4\n",
       "Mileage               448\n",
       "Engine                144\n",
       "Power                 385\n",
       "Seats                   8\n",
       "New_Price             625\n",
       "Price                1368\n",
       "Car_Age                22\n",
       "Brand                  31\n",
       "Model                 705\n",
       "Power_num             385\n",
       "Power_Unit              1\n",
       "dtype: int64"
      ]
     },
     "execution_count": 25,
     "metadata": {},
     "output_type": "execute_result"
    }
   ],
   "source": [
    "df.nunique()"
   ]
  },
  {
   "cell_type": "code",
   "execution_count": 26,
   "id": "f5ded347",
   "metadata": {},
   "outputs": [
    {
     "data": {
      "text/plain": [
       "<bound method Series.unique of 0       58.16\n",
       "1       126.2\n",
       "2        88.7\n",
       "3       88.76\n",
       "4       140.8\n",
       "        ...  \n",
       "7248    103.6\n",
       "7249    103.6\n",
       "7250     63.1\n",
       "7251    103.6\n",
       "7252      170\n",
       "Name: Power_num, Length: 7124, dtype: object>"
      ]
     },
     "execution_count": 26,
     "metadata": {},
     "output_type": "execute_result"
    }
   ],
   "source": [
    "df[\"Power_num\"].unique"
   ]
  },
  {
   "cell_type": "code",
   "execution_count": null,
   "id": "b82ac547",
   "metadata": {},
   "outputs": [],
   "source": [
    "s"
   ]
  },
  {
   "cell_type": "code",
   "execution_count": null,
   "id": "48c2dacc",
   "metadata": {},
   "outputs": [],
   "source": []
  },
  {
   "cell_type": "code",
   "execution_count": null,
   "id": "7b43db03",
   "metadata": {},
   "outputs": [],
   "source": []
  },
  {
   "cell_type": "code",
   "execution_count": null,
   "id": "49a35d3b",
   "metadata": {},
   "outputs": [],
   "source": []
  },
  {
   "cell_type": "markdown",
   "id": "df3d8c53",
   "metadata": {},
   "source": [
    "## Step 5: Data Cleaning/Wrangling\n",
    "Some names of the variables are not relevant and not easy to understand. Some data may have data entry errors, and some variables may need data type conversion. We need to fix this issue in the data"
   ]
  },
  {
   "cell_type": "code",
   "execution_count": null,
   "id": "1a8b4c9a",
   "metadata": {},
   "outputs": [],
   "source": [
    "print(df.Brand.unique())\n",
    "print(df.Brand.nunique())"
   ]
  },
  {
   "cell_type": "markdown",
   "id": "114a787c",
   "metadata": {},
   "source": [
    "The brand name ‘Isuzu’ ‘ISUZU’ and ‘Mini’ and ‘Land’ looks incorrect. This needs to be corrected"
   ]
  },
  {
   "cell_type": "code",
   "execution_count": null,
   "id": "d9113bc0",
   "metadata": {},
   "outputs": [],
   "source": [
    "searchfor=['Isuzu' ,'ISUZU','Mini','Land']\n",
    "df[df.Brand.str.contains('|'.join(searchfor))]"
   ]
  },
  {
   "cell_type": "code",
   "execution_count": null,
   "id": "35b29145",
   "metadata": {},
   "outputs": [],
   "source": [
    "df[\"Brand\"].replace({\"ISUZU\": \"Isuzu\", \"Mini\": \"Mini Cooper\",\"Land\":\"Land Rover\"}, inplace=True)"
   ]
  },
  {
   "cell_type": "code",
   "execution_count": null,
   "id": "2561414c",
   "metadata": {},
   "outputs": [],
   "source": [
    "print(df.Brand.unique())\n",
    "print(df.Brand.nunique())"
   ]
  },
  {
   "cell_type": "markdown",
   "id": "84a857bb",
   "metadata": {},
   "source": [
    "The data cleaning process involves removing duplicate or irrelevant observations, fixing structural errors, filtering unwanted outliers, handling missing data, and validating and QA.                      \n",
    "We will do remaining data cleaning after performing EDA"
   ]
  },
  {
   "cell_type": "markdown",
   "id": "ed511e1c",
   "metadata": {},
   "source": [
    "## Step 6: EDA Exploratory Data Analysis\n",
    "Exploratory Data Analysis refers to the crucial process of performing initial investigations on data to discover patterns to check assumptions with the help of summary statistics and graphical representations.\n",
    "- EDA can be leveraged to check for outliers, patterns, and trends in the given data.\n",
    "- EDA helps to find meaningful patterns in data.\n",
    "- EDA provides in-depth insights into the data sets to solve our business problems.\n",
    "- EDA gives a clue to impute missing values in the dataset "
   ]
  },
  {
   "cell_type": "markdown",
   "id": "63e6b8e4",
   "metadata": {},
   "source": [
    "## Step 7: Statistics Summary\n",
    "The information gives a quick and simple description of the data.\n",
    "\n",
    "Can include Count, Mean, Standard Deviation, median, mode, minimum value, maximum value, range, standard deviation, etc.\n",
    "- count - The number of not-empty values.\n",
    "- mean - The average (mean) value.\n",
    "- std - The standard deviation.\n",
    "- min - the minimum value.\n",
    "- 25% - The 25% percentile*.\n",
    "- 50% - The 50% percentile*.\n",
    "- 75% - The 75% percentile*.\n",
    "- max - the maximum value.\n",
    "\n",
    "Statistics summary gives a high-level idea to identify whether the data has any outliers, data entry error, distribution of data such as the data is normally distributed or left/right skewed"
   ]
  },
  {
   "cell_type": "code",
   "execution_count": null,
   "id": "f9e64201",
   "metadata": {},
   "outputs": [],
   "source": [
    "df.describe()\n",
    "#describe()– Provide a statistics summary of data belonging to numerical datatype such as int, float"
   ]
  },
  {
   "cell_type": "markdown",
   "id": "69b63518",
   "metadata": {},
   "source": [
    "From the statistics summary, we can infer the below findings :\n",
    "- Years range from 1996- 2019 and has a high in a range which shows used cars contain both latest models and old model cars.\n",
    "- On average of Kilometers-driven in Used cars are ~58k KM. The range shows a huge difference between min and max as max values show 650000 KM shows the evidence of an outlier. This record can be removed.\n",
    "- Min value of Mileage shows 0 cars won’t be sold with 0 mileage. This sounds like a data entry issue.\n",
    "- It looks like Engine and Power have outliers, and the data is right-skewed.\n",
    "- The average number of seats in a car is 5. car seat is an important feature in price contribution.\n",
    "- The max price of a used car is 160k which is quite weird, such a high price for used cars. There may be an outlier or data entry issue."
   ]
  },
  {
   "cell_type": "code",
   "execution_count": null,
   "id": "32c8b10f",
   "metadata": {},
   "outputs": [],
   "source": [
    "# divide columns into categorical and numerical columns\n",
    "cat_cols=df.select_dtypes(include=['object']).columns\n",
    "num_cols=df.select_dtypes(include=np.number).columns.tolist()\n",
    "print(\"Categorical Variables:\")\n",
    "print(cat_cols)\n",
    "print(\"Numerical Variables:\")\n",
    "print(num_cols)"
   ]
  },
  {
   "cell_type": "markdown",
   "id": "bef3f7cd",
   "metadata": {},
   "source": [
    "## Step 8: EDA Univariate Analysis\n",
    "Analyzing/visualizing the dataset by taking one variable at a time:\n",
    "\n",
    "Data visualization is essential; we must decide what charts to plot to better understand the data. In this article, we visualize our data using Matplotlib and Seaborn libraries.\n",
    "\n",
    "Univariate analysis can be done for both Categorical and Numerical variables.\n",
    "\n",
    "Categorical variables can be visualized using a Count plot, Bar Chart, Pie Plot, etc.\n",
    "\n",
    "Numerical Variables can be visualized using Histogram, Box Plot, Density Plot, etc.\n",
    "\n",
    "In our example, we have done a Univariate analysis using Histogram and  Box Plot for continuous Variables."
   ]
  },
  {
   "cell_type": "code",
   "execution_count": null,
   "id": "41ad9967",
   "metadata": {
    "scrolled": true
   },
   "outputs": [],
   "source": [
    "# Loop through each column in the list of numerical columns\n",
    "for col in num_cols:\n",
    "    # Print the name of the current column\n",
    "    print(col)\n",
    "    # Print the skewness of the data in the current column, rounded to 2 decimal places\n",
    "    print('Skew :', round(df[col].skew(), 2))\n",
    "    \n",
    "    # Create a new figure for plotting with a specific size\n",
    "    plt.figure(figsize=(15, 4))\n",
    "    \n",
    "    # Create subplots, 1 row and 2 columns, and set the current subplot to the first one\n",
    "    plt.subplot(1, 2, 1)\n",
    "    \n",
    "    # Plot a histogram of the data in the current column without grid lines\n",
    "    df[col].hist(grid=False)\n",
    "    \n",
    "    # Label the y-axis of the histogram\n",
    "    plt.ylabel('count')\n",
    "    \n",
    "    # Set the current subplot to the second one\n",
    "    plt.subplot(1, 2, 2)\n",
    "    \n",
    "    # Plot a boxplot of the data in the current column\n",
    "    sns.boxplot(x=df[col])\n",
    "    \n",
    "    # Display the plot\n",
    "    plt.show()"
   ]
  },
  {
   "cell_type": "markdown",
   "id": "ba37d9b3",
   "metadata": {},
   "source": [
    "Skewness is a measure of the asymmetry of the probability distribution of a real-valued random variable about its mean. In simpler terms, it indicates the degree to which the data is skewed or distorted from a normal distribution.\n",
    "\n",
    "Skewness is often calculated as a numerical value, where a skewness value of 0 indicates a symmetrical distribution, positive values indicate right skew, and negative values indicate left skew. Skewness is a useful statistic because it provides information about the shape of the distribution, which can be important for understanding the characteristics of the data.\n",
    "\n",
    "1. Year:\n",
    "- Skew: -0.84\n",
    "- Since the skewness is negative, it indicates a left skew in the distribution of the 'Year' variable.\n",
    "- In this case, it suggests that most cars in your dataset were manufactured in recent years, with fewer cars from earlier years. This is typical in datasets involving items that have a temporal aspect, as newer items are often more prevalent.\n",
    "\n",
    "2. Kilometers_Driven:\n",
    "- Skew: 61.58\n",
    "- This skewness value is extremely high, indicating a heavily right-skewed distribution.\n",
    "- It suggests that the majority of cars in your dataset have very low values of 'Kilometers_Driven', with only a few cars having extremely high values. This could imply that most cars have relatively low mileage, but there are a few outliers with exceptionally high mileage.\n",
    "\n",
    "3. Seats:\n",
    "- Skew: 1.9\n",
    "- The positive skewness indicates a right skew in the distribution of the 'Seats' variable.\n",
    "- This suggests that most cars in your dataset have fewer seats, with a few cars having a higher number of seats. It's common for cars to have a standard number of seats, with fewer cars having more seats, leading to this right skew.\n",
    "\n",
    "4. Price:\n",
    "- Skew: 3.34\n",
    "- With a high positive skewness, the distribution of 'Price' is heavily skewed to the right.\n",
    "- This indicates that most cars in your dataset have relatively low prices, while a few cars have exceptionally high prices. It's typical in markets like the automotive industry to have a few luxury or high-end vehicles with significantly higher prices compared to the majority of cars.\n",
    "\n",
    "5. Car_Age:\n",
    "- Skew: 0.84\n",
    "- This positive skewness suggests a right skew in the distribution of 'Car_Age'.\n",
    "- It implies that most cars in your dataset are relatively young, with fewer older cars. This is consistent with the expectation that newer cars are more common in the market, with older cars being less prevalent"
   ]
  },
  {
   "cell_type": "code",
   "execution_count": null,
   "id": "ec66d41e",
   "metadata": {},
   "outputs": [],
   "source": [
    "# categorical variables are being visualized using a count plot. Categorical variables provide the pattern of factors influencing car price\n",
    "# Create a grid of subplots with 3 rows and 2 columns, with a specific size\n",
    "fig, axes = plt.subplots(3, 2, figsize=(18, 18))\n",
    "\n",
    "# Add a title to the entire figure\n",
    "fig.suptitle('Bar plot for all categorical variables in the dataset')\n",
    "\n",
    "# Plot a count plot for the 'Fuel_Type' variable in the first row, first column\n",
    "sns.countplot(ax=axes[0, 0], x='Fuel_Type', data=df, color='blue', \n",
    "              order=df['Fuel_Type'].value_counts().index)\n",
    "\n",
    "# Plot a count plot for the 'Transmission' variable in the first row, second column\n",
    "sns.countplot(ax=axes[0, 1], x='Transmission', data=df, color='blue', \n",
    "              order=df['Transmission'].value_counts().index)\n",
    "\n",
    "# Plot a count plot for the 'Owner_Type' variable in the second row, first column\n",
    "sns.countplot(ax=axes[1, 0], x='Owner_Type', data=df, color='blue', \n",
    "              order=df['Owner_Type'].value_counts().index)\n",
    "\n",
    "# Plot a count plot for the 'Location' variable in the second row, second column\n",
    "sns.countplot(ax=axes[1, 1], x='Location', data=df, color='blue', \n",
    "              order=df['Location'].value_counts().index)\n",
    "\n",
    "# Plot a count plot for the 'Brand' variable in the third row, first column\n",
    "sns.countplot(ax=axes[2, 0], x='Brand', data=df, color='blue', \n",
    "              order=df['Brand'].head(20).value_counts().index)\n",
    "\n",
    "# Plot a count plot for the 'Model' variable in the third row, second column\n",
    "sns.countplot(ax=axes[2, 1], x='Model', data=df, color='blue', \n",
    "              order=df['Model'].head(20).value_counts().index)\n",
    "\n",
    "# Rotate the x-axis labels of the plot in the second row, second column by 45 degrees\n",
    "axes[1, 1].tick_params(labelrotation=45)\n",
    "\n",
    "# Rotate the x-axis labels of the plot in the third row, first column by 90 degrees\n",
    "axes[2, 0].tick_params(labelrotation=90)\n",
    "\n",
    "# Rotate the x-axis labels of the plot in the third row, second column by 90 degrees\n",
    "axes[2, 1].tick_params(labelrotation=90)\n",
    "\n",
    "# Display the plot\n",
    "plt.show()"
   ]
  },
  {
   "cell_type": "markdown",
   "id": "825a4d98",
   "metadata": {},
   "source": [
    "From the count plot, we can have below observations:\n",
    "- Mumbai has the highest number of cars available for purchase, followed by Hyderabad and Coimbatore\n",
    "- ~53% of cars have fuel type as Diesel this shows diesel cars provide higher performance\n",
    "- ~72% of cars have manual transmission\n",
    "- ~82 % of cars are First owned cars. This shows most of the buyers prefer to purchase first-owner cars\n",
    "- ~20% of cars belong to the brand Maruti followed by 19% of cars belonging to Hyundai\n",
    "- WagonR ranks first among all models which are available for purchase"
   ]
  },
  {
   "cell_type": "markdown",
   "id": "45467846",
   "metadata": {},
   "source": [
    "## Step 9: Data Transformation\n",
    "Before we proceed to Bi-variate Analysis, Univariate analysis demonstrated the data pattern as some variables to be transformed.\n",
    "\n",
    "Price and Kilometer-Driven variables are highly skewed and on a larger scale. Let’s do log transformation.\n",
    "\n",
    "Log transformation can help in normalization, so this variable can maintain standard scale with other variables.Logarithmic transformations can reduce the impact of outliers by compressing the data's range and bringing extreme values closer to the mean"
   ]
  },
  {
   "cell_type": "code",
   "execution_count": null,
   "id": "90cec343",
   "metadata": {},
   "outputs": [],
   "source": [
    "# Function for log transformation of the column\n",
    "def log_transform(data,col):\n",
    "    for colname in col:\n",
    "        if (data[colname] == 1.0).all():\n",
    "            data[colname + '_log'] = np.log(data[colname]+1)\n",
    "        else:\n",
    "            data[colname + '_log'] = np.log(data[colname])\n",
    "    data.info()"
   ]
  },
  {
   "cell_type": "code",
   "execution_count": null,
   "id": "7586f8e4",
   "metadata": {},
   "outputs": [],
   "source": [
    "log_transform(df,['Kilometers_Driven','Price'])"
   ]
  },
  {
   "cell_type": "code",
   "execution_count": null,
   "id": "05f06bae",
   "metadata": {},
   "outputs": [],
   "source": [
    "#Log transformation of the feature 'Kilometers_Driven'\n",
    "sns.distplot(df[\"Kilometers_Driven_log\"], axlabel=\"Kilometers_Driven_log\")"
   ]
  },
  {
   "cell_type": "code",
   "execution_count": null,
   "id": "f9f9823a",
   "metadata": {},
   "outputs": [],
   "source": [
    "#Log transformation of the feature 'Kilometers_Driven'\n",
    "sns.distplot(df[\"Price_log\"], axlabel=\"Price_log\")"
   ]
  },
  {
   "cell_type": "markdown",
   "id": "3c8187f1",
   "metadata": {},
   "source": [
    "## Step 10: EDA Bivariate Analysis\n",
    "Now, let’s move ahead with bivariate analysis. Bivariate Analysis helps to understand how variables are related to each other and the relationship between dependent and independent variables present in the dataset.\n",
    "\n",
    "For Numerical variables, Pair plots and Scatter plots are widely been used to do Bivariate Analysis.\n",
    "\n",
    "A Stacked bar chart can be used for categorical variables if the output variable is a classifier. Bar plots can be used if the output variable is continuous\n",
    "\n",
    "In our example, a pair plot has been used to show the relationship between two Categorical variables."
   ]
  },
  {
   "cell_type": "code",
   "execution_count": null,
   "id": "9af2fc93",
   "metadata": {},
   "outputs": [],
   "source": [
    "plt.figure(figsize=(13,17))\n",
    "df1=df.drop(['Kilometers_Driven','Price'],axis=1)\n",
    "sns.pairplot(df1)\n",
    "plt.show()"
   ]
  },
  {
   "cell_type": "markdown",
   "id": "f77e07f4",
   "metadata": {},
   "source": [
    "Pair Plot provides below insights:\n",
    "- The variable Year has a positive correlation with price and mileage\n",
    "- A year has a Negative correlation with kilometers-Driven\n",
    "- Mileage is negatively correlated with Power\n",
    "- As power increases, mileage decreases\n",
    "- Car with recent make is higher at prices. As the age of the car increases price decreases\n",
    "- Engine and Power increase, and the price of the car increases"
   ]
  },
  {
   "cell_type": "markdown",
   "id": "3be16922",
   "metadata": {},
   "source": [
    "A bar plot can be used to show the relationship between Categorical variables and continuous variables "
   ]
  },
  {
   "cell_type": "code",
   "execution_count": null,
   "id": "0c4f0b93",
   "metadata": {},
   "outputs": [],
   "source": [
    "fig, axarr = plt.subplots(4, 2, figsize=(12, 18))\n",
    "df.groupby('Location')['Price_log'].mean().sort_values(ascending=False).plot.bar(ax=axarr[0][0], fontsize=12)\n",
    "axarr[0][0].set_title(\"Location Vs Price\", fontsize=18)\n",
    "df.groupby('Transmission')['Price_log'].mean().sort_values(ascending=False).plot.bar(ax=axarr[0][1], fontsize=12)\n",
    "axarr[0][1].set_title(\"Transmission Vs Price\", fontsize=18)\n",
    "df.groupby('Fuel_Type')['Price_log'].mean().sort_values(ascending=False).plot.bar(ax=axarr[1][0], fontsize=12)\n",
    "axarr[1][0].set_title(\"Fuel_Type Vs Price\", fontsize=18)\n",
    "df.groupby('Owner_Type')['Price_log'].mean().sort_values(ascending=False).plot.bar(ax=axarr[1][1], fontsize=12)\n",
    "axarr[1][1].set_title(\"Owner_Type Vs Price\", fontsize=18)\n",
    "df.groupby('Brand')['Price_log'].mean().sort_values(ascending=False).head(10).plot.bar(ax=axarr[2][0], fontsize=12)\n",
    "axarr[2][0].set_title(\"Brand Vs Price\", fontsize=18)\n",
    "df.groupby('Model')['Price_log'].mean().sort_values(ascending=False).head(10).plot.bar(ax=axarr[2][1], fontsize=12)\n",
    "axarr[2][1].set_title(\"Model Vs Price\", fontsize=18)\n",
    "df.groupby('Seats')['Price_log'].mean().sort_values(ascending=False).plot.bar(ax=axarr[3][0], fontsize=12)\n",
    "axarr[3][0].set_title(\"Seats Vs Price\", fontsize=18)\n",
    "df.groupby('Car_Age')['Price_log'].mean().sort_values(ascending=False).plot.bar(ax=axarr[3][1], fontsize=12)\n",
    "axarr[3][1].set_title(\"Car_Age Vs Price\", fontsize=18)\n",
    "plt.subplots_adjust(hspace=1.0)\n",
    "plt.subplots_adjust(wspace=.5)\n",
    "sns.despine()\n",
    "plt.show()"
   ]
  },
  {
   "cell_type": "markdown",
   "id": "64a9dfe1",
   "metadata": {},
   "source": [
    "#### Observations:\n",
    "- The price of cars is high in Coimbatore and less price in Kolkata and Jaipur\n",
    "- Automatic cars have more price than manual cars.\n",
    "- Diesel and Electric cars have almost the same price, which is maximum, and LPG cars have the lowest price\n",
    "- First-owner cars are higher in price, followed by a second\n",
    "- The third owner’s price is lesser than the Fourth and above\n",
    "- Lamborghini brand is the highest in price\n",
    "- Gallardocoupe Model is the highest in price\n",
    "- 2 Seater has the highest price followed by 7 Seater\n",
    "- The latest model cars are high in price"
   ]
  },
  {
   "cell_type": "markdown",
   "id": "a38454a8",
   "metadata": {},
   "source": [
    "## Step 11: Multivariate Analysis\n",
    "As the name suggests, Multivariate analysis looks at more than two variables. Multivariate analysis is one of the most useful methods to determine relationships and analyze patterns for any dataset.\n",
    "\n",
    "A heat map is widely been used for Multivariate Analysis\n",
    "\n",
    "Heat Map gives the correlation between the variables, whether it has a positive or negative correlation."
   ]
  },
  {
   "cell_type": "code",
   "execution_count": null,
   "id": "e87db6da",
   "metadata": {},
   "outputs": [],
   "source": [
    "df2 = df.select_dtypes(exclude=['object'])\n",
    "# taking only numerical columns"
   ]
  },
  {
   "cell_type": "code",
   "execution_count": null,
   "id": "609331dc",
   "metadata": {},
   "outputs": [],
   "source": [
    "plt.figure(figsize=(12, 7))\n",
    "sns.heatmap(df2.corr(), annot = True, vmin = -1, vmax = 1)\n",
    "plt.show()"
   ]
  },
  {
   "cell_type": "markdown",
   "id": "0dfbb8dd",
   "metadata": {},
   "source": [
    "#### Observations:\n",
    "- Price is moderately positive in correlation to year.\n",
    "- Kilometer driven has a negative correlation to year not much impact on the price\n",
    "- Car age has a negative correlation with Price\n",
    "- car Age is positively correlated to Kilometers-Driven as the Age of the car increases"
   ]
  },
  {
   "cell_type": "markdown",
   "id": "6e3f8475",
   "metadata": {},
   "source": [
    "## Step 14: Impute Missing values\n",
    "Missing data arise in almost all statistical analyses. There are many ways to impute missing values; we can impute the missing values by their Mean, median, most frequent, or zero values and use advanced imputation algorithms like KNN, Regularization, etc."
   ]
  },
  {
   "cell_type": "code",
   "execution_count": null,
   "id": "c5f18f24",
   "metadata": {},
   "outputs": [],
   "source": []
  },
  {
   "cell_type": "code",
   "execution_count": null,
   "id": "1981fe4c",
   "metadata": {},
   "outputs": [],
   "source": []
  },
  {
   "cell_type": "markdown",
   "id": "2915a56c",
   "metadata": {},
   "source": [
    "## Step 13: Feature Engineering\n",
    "Feature engineering refers to the process of using domain knowledge to select and transform the most relevant variables from raw data when creating a predictive model using machine learning or statistical modeling. The main goal of Feature engineering is to create meaningful data from raw data."
   ]
  },
  {
   "cell_type": "code",
   "execution_count": null,
   "id": "04e2123c",
   "metadata": {},
   "outputs": [],
   "source": []
  }
 ],
 "metadata": {
  "kernelspec": {
   "display_name": "Python 3 (ipykernel)",
   "language": "python",
   "name": "python3"
  },
  "language_info": {
   "codemirror_mode": {
    "name": "ipython",
    "version": 3
   },
   "file_extension": ".py",
   "mimetype": "text/x-python",
   "name": "python",
   "nbconvert_exporter": "python",
   "pygments_lexer": "ipython3",
   "version": "3.9.13"
  }
 },
 "nbformat": 4,
 "nbformat_minor": 5
}
