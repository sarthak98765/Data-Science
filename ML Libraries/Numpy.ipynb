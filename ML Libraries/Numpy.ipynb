{
 "cells": [
  {
   "cell_type": "markdown",
   "id": "626a316e",
   "metadata": {},
   "source": [
    "# Numpy\n",
    "\n",
    "### What is an array?\n",
    "An array is a data structure that stores values of same data type. In Python, this is the main difference between arrays and lists. While python lists can contain values corresponding to different data types, arrays in python can only contain values corresponding to same data type\n",
    "\n",
    "### What is Numpy?\n",
    "NumPy is a general-purpose array-processing package. It provides a high-performance multidimensional array object, and tools for working with these arrays. It is the fundamental package for scientific computing with Python"
   ]
  },
  {
   "cell_type": "code",
   "execution_count": 1,
   "id": "bb2918e8",
   "metadata": {},
   "outputs": [],
   "source": [
    "# Import the package\n",
    "import numpy as np"
   ]
  },
  {
   "cell_type": "code",
   "execution_count": 2,
   "id": "72411cee",
   "metadata": {},
   "outputs": [],
   "source": [
    "#creating an array\n",
    "L=[1,2,3,4,5]\n",
    "arr=np.array(L)\n",
    "#list passed"
   ]
  },
  {
   "cell_type": "code",
   "execution_count": 3,
   "id": "8afcdaa5",
   "metadata": {},
   "outputs": [
    {
     "data": {
      "text/plain": [
       "array([1, 2, 3, 4, 5])"
      ]
     },
     "execution_count": 3,
     "metadata": {},
     "output_type": "execute_result"
    }
   ],
   "source": [
    "arr"
   ]
  },
  {
   "cell_type": "code",
   "execution_count": 4,
   "id": "086215b6",
   "metadata": {},
   "outputs": [
    {
     "data": {
      "text/plain": [
       "numpy.ndarray"
      ]
     },
     "execution_count": 4,
     "metadata": {},
     "output_type": "execute_result"
    }
   ],
   "source": [
    "type(arr)"
   ]
  },
  {
   "cell_type": "code",
   "execution_count": 5,
   "id": "1a5513fb",
   "metadata": {},
   "outputs": [
    {
     "data": {
      "text/plain": [
       "(5,)"
      ]
     },
     "execution_count": 5,
     "metadata": {},
     "output_type": "execute_result"
    }
   ],
   "source": [
    "arr.shape\n",
    "# 1-D array has only 1 value in shape,i.e, its number of elements"
   ]
  },
  {
   "cell_type": "code",
   "execution_count": 6,
   "id": "5d32d56e",
   "metadata": {},
   "outputs": [
    {
     "data": {
      "text/plain": [
       "array([ 1,  2,  3,  4,  5, 40])"
      ]
     },
     "execution_count": 6,
     "metadata": {},
     "output_type": "execute_result"
    }
   ],
   "source": [
    "#(name_of_array,index,elelemnt)\n",
    "arr=np.insert(arr,5,int(40))\n",
    "arr"
   ]
  },
  {
   "cell_type": "code",
   "execution_count": 7,
   "id": "cc329262",
   "metadata": {},
   "outputs": [
    {
     "data": {
      "text/plain": [
       "array([ 1,  2,  3,  5, 40])"
      ]
     },
     "execution_count": 7,
     "metadata": {},
     "output_type": "execute_result"
    }
   ],
   "source": [
    "arr=np.delete(arr,3)     # delete(array,index)\n",
    "arr"
   ]
  },
  {
   "cell_type": "code",
   "execution_count": 8,
   "id": "dcbd5e31",
   "metadata": {},
   "outputs": [],
   "source": [
    "# Creating 2-D array\n",
    "lst1=[1,2,3,4,5]\n",
    "lst2=[2,3,4,5,6]\n",
    "lst3=[3,4,5,6,7]\n",
    "\n",
    "arr1=np.array([lst1,lst2,lst3])"
   ]
  },
  {
   "cell_type": "code",
   "execution_count": 9,
   "id": "2cee21f0",
   "metadata": {},
   "outputs": [
    {
     "data": {
      "text/plain": [
       "array([[1, 2, 3, 4, 5],\n",
       "       [2, 3, 4, 5, 6],\n",
       "       [3, 4, 5, 6, 7]])"
      ]
     },
     "execution_count": 9,
     "metadata": {},
     "output_type": "execute_result"
    }
   ],
   "source": [
    "arr1"
   ]
  },
  {
   "cell_type": "code",
   "execution_count": 10,
   "id": "161d4611",
   "metadata": {},
   "outputs": [
    {
     "data": {
      "text/plain": [
       "(3, 5)"
      ]
     },
     "execution_count": 10,
     "metadata": {},
     "output_type": "execute_result"
    }
   ],
   "source": [
    "arr1.shape\n",
    "#(rows,columns)"
   ]
  },
  {
   "cell_type": "code",
   "execution_count": 11,
   "id": "ea9155e1",
   "metadata": {},
   "outputs": [
    {
     "data": {
      "text/plain": [
       "array([[1, 2, 3, 4, 5],\n",
       "       [2, 3, 4, 5, 6],\n",
       "       [3, 4, 5, 6, 7]])"
      ]
     },
     "execution_count": 11,
     "metadata": {},
     "output_type": "execute_result"
    }
   ],
   "source": [
    "# accessing element through indexing\n",
    "arr1"
   ]
  },
  {
   "cell_type": "code",
   "execution_count": 12,
   "id": "5e623c38",
   "metadata": {},
   "outputs": [
    {
     "data": {
      "text/plain": [
       "4"
      ]
     },
     "execution_count": 12,
     "metadata": {},
     "output_type": "execute_result"
    }
   ],
   "source": [
    "arr1[(1,2)]   # prints element place at row=1,column=2"
   ]
  },
  {
   "cell_type": "code",
   "execution_count": 13,
   "id": "f2c18928",
   "metadata": {},
   "outputs": [
    {
     "data": {
      "text/plain": [
       "array([2, 3, 4])"
      ]
     },
     "execution_count": 13,
     "metadata": {},
     "output_type": "execute_result"
    }
   ],
   "source": [
    "arr1[:,1]    # row=all, column=1"
   ]
  },
  {
   "cell_type": "code",
   "execution_count": 14,
   "id": "9014941c",
   "metadata": {},
   "outputs": [
    {
     "data": {
      "text/plain": [
       "array([[3, 4],\n",
       "       [4, 5]])"
      ]
     },
     "execution_count": 14,
     "metadata": {},
     "output_type": "execute_result"
    }
   ],
   "source": [
    "arr1[1:,1:3]    # row= 1-last,  column=1,2 as 3 is excluded"
   ]
  },
  {
   "cell_type": "code",
   "execution_count": 15,
   "id": "7c26a1c6",
   "metadata": {},
   "outputs": [
    {
     "data": {
      "text/plain": [
       "array(['1', '2', 'hi'], dtype='<U11')"
      ]
     },
     "execution_count": 15,
     "metadata": {},
     "output_type": "execute_result"
    }
   ],
   "source": [
    "arr2=np.array([1,2,\"hi\"])   # numpy holds same dtype elements, so it converts each element into string\n",
    "arr2"
   ]
  },
  {
   "cell_type": "markdown",
   "id": "55c36b4d",
   "metadata": {},
   "source": [
    "# Functions in Numpy"
   ]
  },
  {
   "cell_type": "markdown",
   "id": "5496b8bc",
   "metadata": {},
   "source": [
    "### arange"
   ]
  },
  {
   "cell_type": "code",
   "execution_count": 16,
   "id": "1aec5fc2",
   "metadata": {},
   "outputs": [
    {
     "data": {
      "text/plain": [
       "array([ 4,  6,  8, 10, 12, 14, 16, 18, 20, 22, 24, 26, 28, 30, 32, 34, 36,\n",
       "       38])"
      ]
     },
     "execution_count": 16,
     "metadata": {},
     "output_type": "execute_result"
    }
   ],
   "source": [
    "arr3=np.arange(4,40,2)   # arange(start,end,step)\n",
    "arr3"
   ]
  },
  {
   "cell_type": "code",
   "execution_count": 17,
   "id": "edcbb4d1",
   "metadata": {},
   "outputs": [
    {
     "data": {
      "text/plain": [
       "array([[0., 0., 0.],\n",
       "       [0., 0., 0.],\n",
       "       [0., 0., 0.]])"
      ]
     },
     "execution_count": 17,
     "metadata": {},
     "output_type": "execute_result"
    }
   ],
   "source": [
    "#zeros-make a array having all elements zero\n",
    "np.zeros((3,3))"
   ]
  },
  {
   "cell_type": "code",
   "execution_count": 18,
   "id": "087ee9f4",
   "metadata": {},
   "outputs": [
    {
     "data": {
      "text/plain": [
       "array([[1., 1., 1.],\n",
       "       [1., 1., 1.],\n",
       "       [1., 1., 1.]])"
      ]
     },
     "execution_count": 18,
     "metadata": {},
     "output_type": "execute_result"
    }
   ],
   "source": [
    "#ones - make a numpy array having all ones\n",
    "np.ones((3,3))"
   ]
  },
  {
   "cell_type": "code",
   "execution_count": 19,
   "id": "060c6ee2",
   "metadata": {},
   "outputs": [
    {
     "data": {
      "text/plain": [
       "array([[1., 0., 0.],\n",
       "       [0., 1., 0.],\n",
       "       [0., 0., 1.]])"
      ]
     },
     "execution_count": 19,
     "metadata": {},
     "output_type": "execute_result"
    }
   ],
   "source": [
    "#identity - make a numpy array having only diagonal elements ones\n",
    "np.identity(3)"
   ]
  },
  {
   "cell_type": "code",
   "execution_count": 20,
   "id": "73f0450b",
   "metadata": {},
   "outputs": [
    {
     "data": {
      "text/plain": [
       "array([ 5.  ,  8.75, 12.5 , 16.25, 20.  ])"
      ]
     },
     "execution_count": 20,
     "metadata": {},
     "output_type": "execute_result"
    }
   ],
   "source": [
    "#linspace - LINEAR SPACE- having equally linear space in all elements\n",
    "arr7=np.linspace(5,20,5)    #linspace(start,end,number of elements)\n",
    "arr7"
   ]
  },
  {
   "cell_type": "code",
   "execution_count": 21,
   "id": "9dab7ed1",
   "metadata": {},
   "outputs": [],
   "source": [
    "arr8=np.linspace(1,10,30)"
   ]
  },
  {
   "cell_type": "code",
   "execution_count": 22,
   "id": "147f1bf6",
   "metadata": {},
   "outputs": [
    {
     "data": {
      "text/plain": [
       "array([ 1.        ,  1.31034483,  1.62068966,  1.93103448,  2.24137931,\n",
       "        2.55172414,  2.86206897,  3.17241379,  3.48275862,  3.79310345,\n",
       "        4.10344828,  4.4137931 ,  4.72413793,  5.03448276,  5.34482759,\n",
       "        5.65517241,  5.96551724,  6.27586207,  6.5862069 ,  6.89655172,\n",
       "        7.20689655,  7.51724138,  7.82758621,  8.13793103,  8.44827586,\n",
       "        8.75862069,  9.06896552,  9.37931034,  9.68965517, 10.        ])"
      ]
     },
     "execution_count": 22,
     "metadata": {},
     "output_type": "execute_result"
    }
   ],
   "source": [
    "arr8"
   ]
  },
  {
   "cell_type": "markdown",
   "id": "61c49930",
   "metadata": {},
   "source": [
    "## basic functions of numpy\n",
    "1. shape-rows and columns\n",
    "2. ndim-no.of dimensions\n",
    "3. size-no.of elements\n",
    "4. itemsize-returns size of 1 item in bit   for int-4 bits    for float-8 bits\n",
    "5. dtype-datatype of elements in a array\n",
    "6. astype-converts the data type"
   ]
  },
  {
   "cell_type": "code",
   "execution_count": 23,
   "id": "9f74c5b1",
   "metadata": {},
   "outputs": [
    {
     "data": {
      "text/plain": [
       "30"
      ]
     },
     "execution_count": 23,
     "metadata": {},
     "output_type": "execute_result"
    }
   ],
   "source": [
    "arr8.size"
   ]
  },
  {
   "cell_type": "code",
   "execution_count": 24,
   "id": "08a2c845",
   "metadata": {},
   "outputs": [
    {
     "data": {
      "text/plain": [
       "1"
      ]
     },
     "execution_count": 24,
     "metadata": {},
     "output_type": "execute_result"
    }
   ],
   "source": [
    "arr8.ndim"
   ]
  },
  {
   "cell_type": "code",
   "execution_count": 25,
   "id": "ca030f7e",
   "metadata": {},
   "outputs": [
    {
     "data": {
      "text/plain": [
       "8"
      ]
     },
     "execution_count": 25,
     "metadata": {},
     "output_type": "execute_result"
    }
   ],
   "source": [
    "arr8.itemsize"
   ]
  },
  {
   "cell_type": "code",
   "execution_count": 26,
   "id": "81b0d42c",
   "metadata": {},
   "outputs": [
    {
     "data": {
      "text/plain": [
       "dtype('float64')"
      ]
     },
     "execution_count": 26,
     "metadata": {},
     "output_type": "execute_result"
    }
   ],
   "source": [
    "arr8.dtype"
   ]
  },
  {
   "cell_type": "code",
   "execution_count": 27,
   "id": "a39a4183",
   "metadata": {},
   "outputs": [
    {
     "data": {
      "text/plain": [
       "array([ 1,  1,  1,  1,  2,  2,  2,  3,  3,  3,  4,  4,  4,  5,  5,  5,  5,\n",
       "        6,  6,  6,  7,  7,  7,  8,  8,  8,  9,  9,  9, 10])"
      ]
     },
     "execution_count": 27,
     "metadata": {},
     "output_type": "execute_result"
    }
   ],
   "source": [
    "arr8.astype(int)"
   ]
  },
  {
   "cell_type": "markdown",
   "id": "5e4926d3",
   "metadata": {},
   "source": [
    "## List vs Numpy\n",
    "1. numpy is much faster\n",
    "2. numpy is more convinient\n",
    "3. numpy takes less storage for memory"
   ]
  },
  {
   "cell_type": "code",
   "execution_count": 28,
   "id": "dbdbd2a5",
   "metadata": {},
   "outputs": [],
   "source": [
    "list1=range(1000)\n",
    "arr12=np.arange(1000)"
   ]
  },
  {
   "cell_type": "code",
   "execution_count": 29,
   "id": "d84735c4",
   "metadata": {},
   "outputs": [],
   "source": [
    "import sys"
   ]
  },
  {
   "cell_type": "code",
   "execution_count": 30,
   "id": "d2599066",
   "metadata": {},
   "outputs": [
    {
     "name": "stdout",
     "output_type": "stream",
     "text": [
      "48000\n"
     ]
    }
   ],
   "source": [
    "print(sys.getsizeof(list1)*len(list1))"
   ]
  },
  {
   "cell_type": "code",
   "execution_count": 31,
   "id": "d7de3679",
   "metadata": {},
   "outputs": [
    {
     "name": "stdout",
     "output_type": "stream",
     "text": [
      "4000\n"
     ]
    }
   ],
   "source": [
    "print(arr12.size*arr.itemsize) # array taking less memory"
   ]
  },
  {
   "cell_type": "code",
   "execution_count": 32,
   "id": "5acf00ce",
   "metadata": {},
   "outputs": [],
   "source": [
    "import time"
   ]
  },
  {
   "cell_type": "code",
   "execution_count": 33,
   "id": "596ef9c9",
   "metadata": {},
   "outputs": [
    {
     "name": "stdout",
     "output_type": "stream",
     "text": [
      "21.830798387527466\n"
     ]
    }
   ],
   "source": [
    "x=range(100000000)\n",
    "y=range(100000000,200000000)\n",
    "\n",
    "start_time=time.time()\n",
    "c=[x+y for x,y in zip(x,y)]\n",
    "print(time.time()-start_time)"
   ]
  },
  {
   "cell_type": "code",
   "execution_count": 34,
   "id": "67c76193",
   "metadata": {},
   "outputs": [
    {
     "name": "stdout",
     "output_type": "stream",
     "text": [
      "2.5405328273773193\n"
     ]
    }
   ],
   "source": [
    "a=np.arange(100000000)\n",
    "b=np.arange(100000000,200000000)\n",
    "start_time=time.time()\n",
    "c=a+b\n",
    "print(time.time()-start_time)  #how fast is  numpy than array"
   ]
  },
  {
   "cell_type": "markdown",
   "id": "033b85c5",
   "metadata": {},
   "source": [
    "### Let's revise Numpy"
   ]
  },
  {
   "cell_type": "markdown",
   "id": "b794f5f5",
   "metadata": {},
   "source": [
    "#### 1. What is NumPy? Why should we use it?\n",
    "- NumPy (also called Numerical Python) is a highly flexible, optimized, open-source package meant for array processing\n",
    "- It provides tools for delivering high-end performance while dealing with N-dimensional powerful array objects\n",
    "- It is also beneficial for performing scientific computations, mathematical, and logical operations, sorting operations, I/O functions, basic statistical and linear algebra-based operations along with random simulation and broadcasting functionalities. Due to the vast range of capabilities, NumPy has become very popular and is the most preferred package"
   ]
  },
  {
   "cell_type": "markdown",
   "id": "1db8bc02",
   "metadata": {},
   "source": [
    "#### 2. Why is NumPy preferred over Matlab, Octave, Idl or Yorick?\n",
    "NumPy is an open-source, high-performing library that allows complex mathematical and scientific computational capabilities. It makes use of Python language which is a high-level, easy-to-learn, general-purpose programming language. It supports the following:\n",
    "- Powerful functions for performing complex mathematical operations on multi-dimensional matrices and arrays. The operations on ndarrays of NumPy are approximately up to 50% faster when compared to operations on native lists using loops. This efficiency is very much useful when the arrays have millions of elements.\n",
    "- Provides indexing syntax to access portions of data easily in a large array.\n",
    "- Provides built-in functions which help to easily perform operations related to linear algebra and statistics.\n",
    "- It takes only a few lines of code to achieve complex computations using NumPy"
   ]
  },
  {
   "cell_type": "markdown",
   "id": "3286b982",
   "metadata": {},
   "source": [
    "#### 3. How are NumPy arrays better than Python’s lists?\n",
    "- Python lists support storing heterogeneous data types whereas NumPy arrays can store datatypes of one nature itself. NumPy provides extra functional capabilities that make operating on its arrays easier which makes NumPy array advantageous in comparison to Python lists as those functions cannot be operated on heterogeneous data.\n",
    "- NumPy arrays are treated as objects which results in minimal memory usage. Since Python keeps track of objects by creating or deleting them based on the requirements, NumPy objects are also treated the same way. This results in lesser memory wastage.\n",
    "- NumPy arrays support multi-dimensional arrays.\n",
    "- NumPy provides various powerful and efficient functions for complex computations on the arrays.\n",
    "- NumPy also provides various range of functions for BitWise Operations, String Operations, Linear Algebraic operations, Arithmetic operations etc. These are not provided on Python’s default lists."
   ]
  },
  {
   "cell_type": "markdown",
   "id": "a5a0e04d",
   "metadata": {},
   "source": [
    "#### 4. What are the main features of Numpy?\n",
    "Here are some main features of the NumPy.\n",
    "- Arrays\n",
    "- Efficiency\n",
    "- Mathematical Functions\n",
    "- Broadcasting\n",
    "- Integration with other libraries\n",
    "- Multi-dimensional arrays\n",
    "- Indexing and Slicing\n",
    "- Memory Management"
   ]
  },
  {
   "cell_type": "markdown",
   "id": "28df77b1",
   "metadata": {},
   "source": [
    "#### 5. What is the purpose of numpy.linspace()?\n",
    "\n",
    "numpy.linspace() returns evenly spaced numbers over a specified range. It's useful for creating coordinate vectors."
   ]
  },
  {
   "cell_type": "markdown",
   "id": "af693ef5",
   "metadata": {},
   "source": [
    "#### 6. What is broadcasting in NumPy?\n",
    "Broadcasting allows NumPy to work with arrays of different shapes when performing arithmetic operations, adapting the smaller array so that it has the shape of larger array."
   ]
  },
  {
   "cell_type": "markdown",
   "id": "352076fe",
   "metadata": {},
   "source": [
    "#### 7. How do you perform element-wise addition of two NumPy arrays?"
   ]
  },
  {
   "cell_type": "code",
   "execution_count": 2,
   "id": "354dae94",
   "metadata": {},
   "outputs": [
    {
     "name": "stdout",
     "output_type": "stream",
     "text": [
      "[5 7 9]\n",
      "[5 7 9]\n"
     ]
    }
   ],
   "source": [
    "arr1=np.array([1,2,3])\n",
    "arr2=np.array([4,5,6])\n",
    "# Perform element-wise addition using the + operator\n",
    "result_op=arr1+arr2\n",
    "print(result_op)\n",
    "# Perform element-wise addition using the numpy.add() function\n",
    "result=np.add(arr1,arr2)\n",
    "print(result)"
   ]
  }
 ],
 "metadata": {
  "kernelspec": {
   "display_name": "Python 3 (ipykernel)",
   "language": "python",
   "name": "python3"
  },
  "language_info": {
   "codemirror_mode": {
    "name": "ipython",
    "version": 3
   },
   "file_extension": ".py",
   "mimetype": "text/x-python",
   "name": "python",
   "nbconvert_exporter": "python",
   "pygments_lexer": "ipython3",
   "version": "3.9.13"
  }
 },
 "nbformat": 4,
 "nbformat_minor": 5
}
