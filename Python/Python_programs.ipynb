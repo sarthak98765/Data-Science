{
 "cells": [
  {
   "cell_type": "markdown",
   "id": "591d3201",
   "metadata": {},
   "source": [
    "# 1) Data types and Variables"
   ]
  },
  {
   "cell_type": "markdown",
   "id": "4b19044c",
   "metadata": {},
   "source": [
    "### Q1) Create a variable named \"num\" and assign any integer to it and then write a program to convert it to a string."
   ]
  },
  {
   "cell_type": "code",
   "execution_count": 2,
   "id": "f153e550",
   "metadata": {},
   "outputs": [
    {
     "name": "stdout",
     "output_type": "stream",
     "text": [
      "7\n"
     ]
    },
    {
     "data": {
      "text/plain": [
       "str"
      ]
     },
     "execution_count": 2,
     "metadata": {},
     "output_type": "execute_result"
    }
   ],
   "source": [
    "# create a integer variable with named num\n",
    "num=7    # Everyone knows the reason\n",
    "\n",
    "# to convert int to string, we have to typecast the variable explicitly or implicitly\n",
    "x=str(num)\n",
    "print(x)\n",
    "type(x)"
   ]
  },
  {
   "cell_type": "markdown",
   "id": "fae48b1f",
   "metadata": {},
   "source": [
    "### Q2) Swap two variables without using a temporary variable:"
   ]
  },
  {
   "cell_type": "code",
   "execution_count": 3,
   "id": "c395b564",
   "metadata": {},
   "outputs": [
    {
     "name": "stdout",
     "output_type": "stream",
     "text": [
      "After swapping:\n",
      "x = 10\n",
      "y = 5\n"
     ]
    }
   ],
   "source": [
    "x = 5\n",
    "y = 10\n",
    "\n",
    "x, y = y, x\n",
    "\n",
    "print(\"After swapping:\")\n",
    "print(\"x =\", x)\n",
    "print(\"y =\", y)"
   ]
  },
  {
   "cell_type": "code",
   "execution_count": 40,
   "id": "3cc97f84",
   "metadata": {},
   "outputs": [
    {
     "name": "stdout",
     "output_type": "stream",
     "text": [
      "2 1\n"
     ]
    }
   ],
   "source": [
    "x=1\n",
    "y=2\n",
    "\n",
    "x,y=y,x\n",
    "\n",
    "print(x,y)"
   ]
  },
  {
   "cell_type": "markdown",
   "id": "16d9ac26",
   "metadata": {},
   "source": [
    "# 2) Operators in Python"
   ]
  },
  {
   "cell_type": "markdown",
   "id": "791fa44e",
   "metadata": {},
   "source": [
    "### Q1) Calculate the area of a rectangle using the length and width provided by the user:"
   ]
  },
  {
   "cell_type": "code",
   "execution_count": 4,
   "id": "0559b00c",
   "metadata": {},
   "outputs": [
    {
     "name": "stdout",
     "output_type": "stream",
     "text": [
      "Enter the length of the rectangle: 17.2\n",
      "Enter the width of the rectangle: 11\n",
      "Area of the rectangle: 189.2\n"
     ]
    }
   ],
   "source": [
    "length = float(input(\"Enter the length of the rectangle: \"))\n",
    "width = float(input(\"Enter the width of the rectangle: \"))\n",
    "\n",
    "area = length * width\n",
    "\n",
    "print(\"Area of the rectangle:\", area)"
   ]
  },
  {
   "cell_type": "markdown",
   "id": "1eeed4f7",
   "metadata": {},
   "source": [
    "### Q2) Calculate the area of a circle using the radius provided by the user:"
   ]
  },
  {
   "cell_type": "code",
   "execution_count": 5,
   "id": "32a7032c",
   "metadata": {},
   "outputs": [
    {
     "name": "stdout",
     "output_type": "stream",
     "text": [
      "Enter the radius of the circle: 7\n",
      "Area of the circle: 153.93804002589985\n"
     ]
    }
   ],
   "source": [
    "import math\n",
    "\n",
    "radius = float(input(\"Enter the radius of the circle: \"))\n",
    "area = math.pi*(radius ** 2)\n",
    "\n",
    "print(\"Area of the circle:\", area)"
   ]
  },
  {
   "cell_type": "markdown",
   "id": "dbf5766e",
   "metadata": {},
   "source": [
    "# 3)Conditionals- If, else statements"
   ]
  },
  {
   "cell_type": "markdown",
   "id": "83c30e74",
   "metadata": {},
   "source": [
    "### Q1) Check if a number is even or odd:"
   ]
  },
  {
   "cell_type": "code",
   "execution_count": 6,
   "id": "6abe92ef",
   "metadata": {},
   "outputs": [
    {
     "name": "stdout",
     "output_type": "stream",
     "text": [
      "Enter a number: 97\n",
      "97 is odd.\n"
     ]
    }
   ],
   "source": [
    "num = int(input(\"Enter a number: \"))\n",
    "\n",
    "if num % 2 == 0:\n",
    "    print(num, \"is even.\")\n",
    "else:\n",
    "    print(num, \"is odd.\")"
   ]
  },
  {
   "cell_type": "markdown",
   "id": "3b4641f3",
   "metadata": {},
   "source": [
    "### Q2) Find the largest among three numbers entered by the user:"
   ]
  },
  {
   "cell_type": "code",
   "execution_count": 7,
   "id": "3dd49f67",
   "metadata": {},
   "outputs": [
    {
     "name": "stdout",
     "output_type": "stream",
     "text": [
      "Enter the first number: 45\n",
      "Enter the second number: 24\n",
      "Enter the third number: 654.3\n",
      "The largest number is: 654.3\n"
     ]
    }
   ],
   "source": [
    "num1 = float(input(\"Enter the first number: \"))\n",
    "num2 = float(input(\"Enter the second number: \"))\n",
    "num3 = float(input(\"Enter the third number: \"))\n",
    "\n",
    "largest = max(num1, num2, num3)\n",
    "\n",
    "print(\"The largest number is:\", largest)"
   ]
  },
  {
   "cell_type": "markdown",
   "id": "52241ad8",
   "metadata": {},
   "source": [
    "# 4) Loops"
   ]
  },
  {
   "cell_type": "markdown",
   "id": "66c50b77",
   "metadata": {},
   "source": [
    "### Q1) Print the Fibonacci sequence up to n terms:"
   ]
  },
  {
   "cell_type": "code",
   "execution_count": 9,
   "id": "f6ebb6c6",
   "metadata": {},
   "outputs": [
    {
     "name": "stdout",
     "output_type": "stream",
     "text": [
      "Enter the number of terms: 7\n",
      "0 1 1 2 3 5 8 "
     ]
    }
   ],
   "source": [
    "n = int(input(\"Enter the number of terms: \"))\n",
    "\n",
    "a, b = 0, 1\n",
    "count = 0\n",
    "\n",
    "# Printing Fibonacci sequence\n",
    "while count < n:\n",
    "    print(a, end=\" \")\n",
    "    a, b = b, a + b\n",
    "    count = count+1"
   ]
  },
  {
   "cell_type": "markdown",
   "id": "cfb16f10",
   "metadata": {},
   "source": [
    "### Q2) Find the factorial of a number using a loop:"
   ]
  },
  {
   "cell_type": "code",
   "execution_count": 10,
   "id": "8e742f47",
   "metadata": {},
   "outputs": [
    {
     "name": "stdout",
     "output_type": "stream",
     "text": [
      "Enter a number: 6\n",
      "Factorial of 6 is: 720\n"
     ]
    }
   ],
   "source": [
    "num = int(input(\"Enter a number: \"))\n",
    "\n",
    "factorial = 1\n",
    "for i in range(1, num + 1):\n",
    "    factorial *= i\n",
    "\n",
    "print(\"Factorial of\", num, \"is:\", factorial)"
   ]
  },
  {
   "cell_type": "markdown",
   "id": "9fec36f8",
   "metadata": {},
   "source": [
    "# 5) List"
   ]
  },
  {
   "cell_type": "markdown",
   "id": "0de0ab13",
   "metadata": {},
   "source": [
    "### Q1) Find the sum of all elements in a list:"
   ]
  },
  {
   "cell_type": "code",
   "execution_count": 11,
   "id": "7ae0e7e5",
   "metadata": {},
   "outputs": [
    {
     "name": "stdout",
     "output_type": "stream",
     "text": [
      "Sum of elements in the list: 15\n"
     ]
    }
   ],
   "source": [
    "numbers = [1, 2, 3, 4, 5]\n",
    "\n",
    "total = sum(numbers)\n",
    "\n",
    "print(\"Sum of elements in the list:\", total)"
   ]
  },
  {
   "cell_type": "markdown",
   "id": "665ebf44",
   "metadata": {},
   "source": [
    "### Q2) Remove duplicates from a list:"
   ]
  },
  {
   "cell_type": "code",
   "execution_count": 12,
   "id": "8bc7cf1b",
   "metadata": {},
   "outputs": [
    {
     "name": "stdout",
     "output_type": "stream",
     "text": [
      "List after removing duplicates: [1, 2, 3, 4, 5]\n"
     ]
    }
   ],
   "source": [
    "numbers = [1, 2, 3, 2, 4, 3, 5]\n",
    "\n",
    "unique_numbers = list(set(numbers))\n",
    "\n",
    "print(\"List after removing duplicates:\", unique_numbers)"
   ]
  },
  {
   "cell_type": "markdown",
   "id": "8454ab2b",
   "metadata": {},
   "source": [
    "# 6) Tuple"
   ]
  },
  {
   "cell_type": "markdown",
   "id": "54fb9e83",
   "metadata": {},
   "source": [
    "### Q1) Concatenate two tuples:"
   ]
  },
  {
   "cell_type": "code",
   "execution_count": 13,
   "id": "7a380156",
   "metadata": {},
   "outputs": [
    {
     "name": "stdout",
     "output_type": "stream",
     "text": [
      "Concatenated tuple: (1, 2, 3, 4, 5, 6)\n"
     ]
    }
   ],
   "source": [
    "tuple1 = (1, 2, 3)\n",
    "tuple2 = (4, 5, 6)\n",
    "\n",
    "concatenated_tuple = tuple1 + tuple2\n",
    "\n",
    "print(\"Concatenated tuple:\", concatenated_tuple)"
   ]
  },
  {
   "cell_type": "markdown",
   "id": "821196c4",
   "metadata": {},
   "source": [
    "### Q2) Find the index of an element in a tuple:"
   ]
  },
  {
   "cell_type": "code",
   "execution_count": 14,
   "id": "1efd3e3c",
   "metadata": {},
   "outputs": [
    {
     "name": "stdout",
     "output_type": "stream",
     "text": [
      "Index of c in the tuple: 2\n"
     ]
    }
   ],
   "source": [
    "my_tuple = ('a', 'b', 'c', 'd', 'e')\n",
    "\n",
    "element = 'c'\n",
    "index = my_tuple.index(element)\n",
    "\n",
    "print(\"Index of\", element, \"in the tuple:\", index)"
   ]
  },
  {
   "cell_type": "markdown",
   "id": "507e1463",
   "metadata": {},
   "source": [
    "# 7) Sets"
   ]
  },
  {
   "cell_type": "markdown",
   "id": "65f2ce42",
   "metadata": {},
   "source": [
    "### Q1) Perform set intersection and union operations on two sets:"
   ]
  },
  {
   "cell_type": "code",
   "execution_count": 16,
   "id": "cbd870d6",
   "metadata": {},
   "outputs": [
    {
     "name": "stdout",
     "output_type": "stream",
     "text": [
      "Intersection of sets: {4, 5}\n",
      "Union of sets: {1, 2, 3, 4, 5, 6, 7, 8}\n"
     ]
    }
   ],
   "source": [
    "set1 = {1, 2, 3, 4, 5}\n",
    "set2 = {4, 5, 6, 7, 8}\n",
    "\n",
    "intersection = set1.intersection(set2)\n",
    "union = set1.union(set2)\n",
    "\n",
    "print(\"Intersection of sets:\", intersection)\n",
    "print(\"Union of sets:\", union)"
   ]
  },
  {
   "cell_type": "markdown",
   "id": "8f51ef3e",
   "metadata": {},
   "source": [
    "### Q2) Check if a set is a subset of another set:"
   ]
  },
  {
   "cell_type": "code",
   "execution_count": 17,
   "id": "df11d691",
   "metadata": {},
   "outputs": [
    {
     "name": "stdout",
     "output_type": "stream",
     "text": [
      "set1 is a subset of set2\n"
     ]
    }
   ],
   "source": [
    "set1 = {1, 2, 3}\n",
    "set2 = {1, 2, 3, 4, 5}\n",
    "\n",
    "if set1.issubset(set2):\n",
    "    print(\"set1 is a subset of set2\")\n",
    "else:\n",
    "    print(\"set1 is not a subset of set2\")"
   ]
  },
  {
   "cell_type": "markdown",
   "id": "e1e5c4c8",
   "metadata": {},
   "source": [
    "# 8) Dictionary"
   ]
  },
  {
   "cell_type": "markdown",
   "id": "41d420fb",
   "metadata": {},
   "source": [
    "### Q1) Iterate over dictionary items and print key-value pairs:"
   ]
  },
  {
   "cell_type": "code",
   "execution_count": 18,
   "id": "a63f5f62",
   "metadata": {},
   "outputs": [
    {
     "name": "stdout",
     "output_type": "stream",
     "text": [
      "a : 1\n",
      "b : 2\n",
      "c : 3\n"
     ]
    }
   ],
   "source": [
    "my_dict = {'a': 1, 'b': 2, 'c': 3}\n",
    "\n",
    "for key, value in my_dict.items():\n",
    "    print(key, \":\", value)"
   ]
  },
  {
   "cell_type": "markdown",
   "id": "182dda86",
   "metadata": {},
   "source": [
    "### Q2) Merge two dictionaries:"
   ]
  },
  {
   "cell_type": "code",
   "execution_count": 19,
   "id": "c71b0ccf",
   "metadata": {},
   "outputs": [
    {
     "name": "stdout",
     "output_type": "stream",
     "text": [
      "Merged dictionary: {'a': 1, 'b': 2, 'c': 3, 'd': 4}\n"
     ]
    }
   ],
   "source": [
    "dict1 = {'a': 1, 'b': 2}\n",
    "dict2 = {'c': 3, 'd': 4}\n",
    "\n",
    "merged_dict = {**dict1, **dict2}\n",
    "\n",
    "print(\"Merged dictionary:\", merged_dict)"
   ]
  },
  {
   "cell_type": "markdown",
   "id": "a35d9737",
   "metadata": {},
   "source": [
    "# 9) String"
   ]
  },
  {
   "cell_type": "markdown",
   "id": "f78167a0",
   "metadata": {},
   "source": [
    "### Q1) Count the occurrences of a specific character in a string:"
   ]
  },
  {
   "cell_type": "code",
   "execution_count": 20,
   "id": "4b8cfcee",
   "metadata": {},
   "outputs": [
    {
     "name": "stdout",
     "output_type": "stream",
     "text": [
      "Occurrences of l in the string: 3\n"
     ]
    }
   ],
   "source": [
    "string = \"hello world\"\n",
    "char = 'l'\n",
    "\n",
    "count = string.count(char)\n",
    "\n",
    "print(\"Occurrences of\", char, \"in the string:\", count)"
   ]
  },
  {
   "cell_type": "markdown",
   "id": "d2692a6a",
   "metadata": {},
   "source": [
    "### Q2) Check if a string is a palindrome or not:"
   ]
  },
  {
   "cell_type": "code",
   "execution_count": 21,
   "id": "7a0c424a",
   "metadata": {},
   "outputs": [
    {
     "name": "stdout",
     "output_type": "stream",
     "text": [
      "Enter a string: hello\n",
      "The string is not a palindrome.\n"
     ]
    }
   ],
   "source": [
    "string = input(\"Enter a string: \")\n",
    "\n",
    "if string == string[::-1]:\n",
    "    print(\"The string is a palindrome.\")\n",
    "else:\n",
    "    print(\"The string is not a palindrome.\")"
   ]
  },
  {
   "cell_type": "markdown",
   "id": "99dd2479",
   "metadata": {},
   "source": [
    "# 10) Function"
   ]
  },
  {
   "cell_type": "markdown",
   "id": "54dc6917",
   "metadata": {},
   "source": [
    "### Q1) Calculate the sum of two numbers using a function:"
   ]
  },
  {
   "cell_type": "code",
   "execution_count": 22,
   "id": "cc653c25",
   "metadata": {},
   "outputs": [
    {
     "name": "stdout",
     "output_type": "stream",
     "text": [
      "Enter the first number: 45\n",
      "Enter the second number: 23\n",
      "Sum of 45.0 and 23.0 is: 68.0\n"
     ]
    }
   ],
   "source": [
    "def sum_numbers(a, b):\n",
    "    return a + b\n",
    "\n",
    "num1 = float(input(\"Enter the first number: \"))\n",
    "num2 = float(input(\"Enter the second number: \"))\n",
    "\n",
    "print(\"Sum of\", num1, \"and\", num2, \"is:\", sum_numbers(num1, num2))"
   ]
  },
  {
   "cell_type": "markdown",
   "id": "c3e181f7",
   "metadata": {},
   "source": [
    "### Q2) Find the maximum of three numbers using a function:"
   ]
  },
  {
   "cell_type": "code",
   "execution_count": 23,
   "id": "40385305",
   "metadata": {},
   "outputs": [
    {
     "name": "stdout",
     "output_type": "stream",
     "text": [
      "Enter the first number: 23\n",
      "Enter the second number: 34\n",
      "Enter the third number: 12\n",
      "Maximum number is: 34.0\n"
     ]
    }
   ],
   "source": [
    "def find_max(num1, num2, num3):\n",
    "    return max(num1, num2, num3)\n",
    "\n",
    "num1 = float(input(\"Enter the first number: \"))\n",
    "num2 = float(input(\"Enter the second number: \"))\n",
    "num3 = float(input(\"Enter the third number: \"))\n",
    "\n",
    "print(\"Maximum number is:\", find_max(num1, num2, num3))"
   ]
  },
  {
   "cell_type": "markdown",
   "id": "4b489d72",
   "metadata": {},
   "source": [
    "# Master Program\n",
    "### Problem Statement: \"Python Adventure - Guess the Secret Number\"\n",
    "\n",
    "You are tasked with developing a text-based game called \"Python Adventure\" where players can test their guessing skills by trying to guess a secret number.\n",
    "\n",
    "Game Rules:\n",
    "- The game will generate a random secret number between 1 and 100.\n",
    "- The player will have to guess the secret number.\n",
    "- After each guess, the game will provide hints to the player to help them guess the number correctly.\n",
    "- If the player guesses the number correctly within 6 attempts, they win the game.\n",
    "- If the player fails to guess the number within 6 attempts, the game ends, revealing the secret number.\n",
    "\n",
    "Hints:\n",
    "- After 3 guesses: The hint will provide a range within which the secret number lies.\n",
    "- After 5 guesses: The hint will specify whether the secret number is even or odd.\n",
    "\n",
    "Implementation Details:\n",
    "You need to write a Python program that implements the \"Python Adventure\" game according to the rules and hints provided above.\n",
    "Your program should include functions to generate a random number, validate the player's guesses, and provide hints.\n",
    "Ensure that your program is user-friendly and provides clear instructions to the player.}"
   ]
  },
  {
   "cell_type": "code",
   "execution_count": 27,
   "id": "12bb3ca7",
   "metadata": {},
   "outputs": [
    {
     "name": "stdout",
     "output_type": "stream",
     "text": [
      "Welcome to Python Adventure!\n",
      "Enter your guess (between 1 and 100): 34\n",
      "Too high!\n",
      "Enter your guess (between 1 and 100): 23\n",
      "Too high!\n",
      "Enter your guess (between 1 and 100): 10\n",
      "Too high!\n",
      "Hint: The secret number is between -3 and 19\n",
      "Enter your guess (between 1 and 100): 8\n",
      "Too low!\n",
      "Enter your guess (between 1 and 100): 9\n",
      "Congratulations! You've guessed the secret number in 5 guesses.\n",
      "Thanks for playing Python Adventure!\n"
     ]
    }
   ],
   "source": [
    "import random\n",
    "\n",
    "# Function to generate a random number between 1 and 100\n",
    "def generate_random_number():\n",
    "    return random.randint(1, 100)\n",
    "\n",
    "# Main game function\n",
    "def main():\n",
    "    print(\"Welcome to Python Adventure!\")\n",
    "\n",
    "    # Generate a random number for the player to guess\n",
    "    secret_number = generate_random_number()\n",
    "\n",
    "    # Game loop\n",
    "    guesses = 0\n",
    "    while guesses < 6:  # Allow a maximum of 6 guesses\n",
    "        guess = int(input(\"Enter your guess (between 1 and 100): \"))\n",
    "        guesses += 1\n",
    "\n",
    "        if guess < secret_number:\n",
    "            print(\"Too low!\")\n",
    "        elif guess > secret_number:\n",
    "            print(\"Too high!\")\n",
    "        else:\n",
    "            print(\"Congratulations! You've guessed the secret number in\", guesses, \"guesses.\")\n",
    "            break\n",
    "\n",
    "        if guesses == 3:\n",
    "            print(\"Hint: The secret number is between\", secret_number - random.randint(8,13), \"and\", secret_number + random.randint(6,14))\n",
    "        elif guesses == 5:\n",
    "            if secret_number % 2 == 0:\n",
    "                print(\"Hint: The secret number is even.\")\n",
    "            else:\n",
    "                print(\"Hint: The secret number is odd.\")\n",
    "\n",
    "    else:\n",
    "        print(\"Sorry, you've run out of guesses. The secret number was:\", secret_number)\n",
    "\n",
    "    print(\"Thanks for playing Python Adventure!\")\n",
    "\n",
    "# Call the main function to start the game\n",
    "if __name__ == \"__main__\":\n",
    "    main()"
   ]
  },
  {
   "cell_type": "markdown",
   "id": "982bd51c",
   "metadata": {},
   "source": [
    "## Most asked Python programs"
   ]
  },
  {
   "cell_type": "markdown",
   "id": "1c0f53da",
   "metadata": {},
   "source": [
    "### 1) Fibonacci Sequence:"
   ]
  },
  {
   "cell_type": "code",
   "execution_count": 29,
   "id": "735fdb8b",
   "metadata": {},
   "outputs": [
    {
     "name": "stdout",
     "output_type": "stream",
     "text": [
      "Enter the number of terms: 10\n",
      "Fibonacci sequence up to 10 terms:\n",
      "[0, 1, 1, 2, 3, 5, 8, 13, 21, 34]\n"
     ]
    }
   ],
   "source": [
    "def fibonacci_sequence(n):\n",
    "    sequence = [0, 1]\n",
    "\n",
    "    for i in range(2, n):\n",
    "        next_term = sequence[-1] + sequence[-2]\n",
    "        sequence.append(next_term)\n",
    "\n",
    "    return sequence\n",
    "\n",
    "# Taking input from the user for the number of terms\n",
    "n = int(input(\"Enter the number of terms: \"))\n",
    "\n",
    "if n <= 0:\n",
    "    print(\"Please enter a positive integer.\")\n",
    "else:\n",
    "    print(\"Fibonacci sequence up to\", n, \"terms:\")\n",
    "    print(fibonacci_sequence(n))"
   ]
  },
  {
   "cell_type": "markdown",
   "id": "db091690",
   "metadata": {},
   "source": [
    "### 2) Factorial of a Number:"
   ]
  },
  {
   "cell_type": "code",
   "execution_count": 30,
   "id": "43529b06",
   "metadata": {},
   "outputs": [
    {
     "name": "stdout",
     "output_type": "stream",
     "text": [
      "Enter a number: 5\n",
      "Factorial of 5 is: 120\n"
     ]
    }
   ],
   "source": [
    "def factorial(n):\n",
    "    if n == 0:\n",
    "        return 1\n",
    "    else:\n",
    "        return n * factorial(n - 1)\n",
    "\n",
    "# Taking input from the user\n",
    "n = int(input(\"Enter a number: \"))\n",
    "\n",
    "if n < 0:\n",
    "    print(\"Factorial is not defined for negative numbers.\")\n",
    "else:\n",
    "    print(\"Factorial of\", n, \"is:\", factorial(n))"
   ]
  },
  {
   "cell_type": "markdown",
   "id": "0cd52226",
   "metadata": {},
   "source": [
    "### 3) Prime Number Check:"
   ]
  },
  {
   "cell_type": "code",
   "execution_count": 31,
   "id": "a55b30f3",
   "metadata": {},
   "outputs": [
    {
     "name": "stdout",
     "output_type": "stream",
     "text": [
      "Enter a number: 35\n",
      "35 is not a prime number.\n"
     ]
    }
   ],
   "source": [
    "def is_prime(n):\n",
    "    if n <= 1:\n",
    "        return False\n",
    "    for i in range(2, int(n**0.5) + 1):\n",
    "        if n % i == 0:\n",
    "            return False\n",
    "    return True\n",
    "\n",
    "# Taking input from the user\n",
    "n = int(input(\"Enter a number: \"))\n",
    "\n",
    "if is_prime(n):\n",
    "    print(n, \"is a prime number.\")\n",
    "else:\n",
    "    print(n, \"is not a prime number.\")"
   ]
  },
  {
   "cell_type": "markdown",
   "id": "a35d5c76",
   "metadata": {},
   "source": [
    "### 4) Palindrome Check:"
   ]
  },
  {
   "cell_type": "code",
   "execution_count": 32,
   "id": "db9994b0",
   "metadata": {},
   "outputs": [
    {
     "name": "stdout",
     "output_type": "stream",
     "text": [
      "Enter a word: abccba\n",
      "Yes, it's a palindrome!\n"
     ]
    }
   ],
   "source": [
    "def is_palindrome(s):\n",
    "    return s == s[::-1]\n",
    "\n",
    "# Taking input from the user\n",
    "word = input(\"Enter a word: \")\n",
    "\n",
    "if is_palindrome(word):\n",
    "    print(\"Yes, it's a palindrome!\")\n",
    "else:\n",
    "    print(\"No, it's not a palindrome.\")"
   ]
  },
  {
   "cell_type": "markdown",
   "id": "57666ea5",
   "metadata": {},
   "source": [
    "### 5) Reverse a String:"
   ]
  },
  {
   "cell_type": "code",
   "execution_count": 33,
   "id": "648d4b28",
   "metadata": {},
   "outputs": [
    {
     "name": "stdout",
     "output_type": "stream",
     "text": [
      "Enter a string: Sarthak\n",
      "Reversed string: kahtraS\n"
     ]
    }
   ],
   "source": [
    "def reverse_string(s):\n",
    "    return s[::-1]\n",
    "\n",
    "# Taking input from the user\n",
    "string = input(\"Enter a string: \")\n",
    "print(\"Reversed string:\", reverse_string(string))"
   ]
  },
  {
   "cell_type": "markdown",
   "id": "cc714af5",
   "metadata": {},
   "source": [
    "### 6) Sum of Digits:"
   ]
  },
  {
   "cell_type": "code",
   "execution_count": 34,
   "id": "e08ee2a1",
   "metadata": {},
   "outputs": [
    {
     "name": "stdout",
     "output_type": "stream",
     "text": [
      "Enter a number: 387\n",
      "Sum of digits: 18\n"
     ]
    }
   ],
   "source": [
    "def sum_of_digits(n):\n",
    "    return sum(int(digit) for digit in str(abs(n)))\n",
    "\n",
    "# Taking input from the user\n",
    "num = int(input(\"Enter a number: \"))\n",
    "print(\"Sum of digits:\", sum_of_digits(num))"
   ]
  },
  {
   "cell_type": "markdown",
   "id": "f9e8c5ac",
   "metadata": {},
   "source": [
    "### 7) Check Armstrong Number:"
   ]
  },
  {
   "cell_type": "code",
   "execution_count": 35,
   "id": "0c8fb65e",
   "metadata": {},
   "outputs": [
    {
     "name": "stdout",
     "output_type": "stream",
     "text": [
      "Enter a number: 153\n",
      "153 is an Armstrong number.\n"
     ]
    }
   ],
   "source": [
    "def is_armstrong_number(n):\n",
    "    order = len(str(n))\n",
    "    sum_of_digits = sum(int(digit) ** order for digit in str(n))\n",
    "    return sum_of_digits == n\n",
    "\n",
    "# Taking input from the user\n",
    "num = int(input(\"Enter a number: \"))\n",
    "\n",
    "if is_armstrong_number(num):\n",
    "    print(num, \"is an Armstrong number.\")\n",
    "else:\n",
    "    print(num, \"is not an Armstrong number.\")"
   ]
  },
  {
   "cell_type": "markdown",
   "id": "769d6fbd",
   "metadata": {},
   "source": [
    "### 8) Check Leap Year:"
   ]
  },
  {
   "cell_type": "code",
   "execution_count": 36,
   "id": "8d23a695",
   "metadata": {},
   "outputs": [
    {
     "name": "stdout",
     "output_type": "stream",
     "text": [
      "Enter a year: 2017\n",
      "2017 is not a leap year.\n"
     ]
    }
   ],
   "source": [
    "def is_leap_year(year):\n",
    "    if year % 4 == 0:\n",
    "        if year % 100 == 0:\n",
    "            if year % 400 == 0:\n",
    "                return True\n",
    "            else:\n",
    "                return False\n",
    "        else:\n",
    "            return True\n",
    "    else:\n",
    "        return False\n",
    "\n",
    "# Taking input from the user\n",
    "year = int(input(\"Enter a year: \"))\n",
    "\n",
    "if is_leap_year(year):\n",
    "    print(year, \"is a leap year.\")\n",
    "else:\n",
    "    print(year, \"is not a leap year.\")"
   ]
  },
  {
   "cell_type": "markdown",
   "id": "ff8dff2b",
   "metadata": {},
   "source": [
    "### 9) Count Vowels and Consonants:"
   ]
  },
  {
   "cell_type": "code",
   "execution_count": 37,
   "id": "ac401e35",
   "metadata": {},
   "outputs": [
    {
     "name": "stdout",
     "output_type": "stream",
     "text": [
      "Enter a string: hello everyone\n",
      "Number of vowels: 6\n",
      "Number of consonants: 7\n"
     ]
    }
   ],
   "source": [
    "def count_vowels_and_consonants(s):\n",
    "    vowels = \"aeiouAEIOU\"\n",
    "    num_vowels = sum(1 for char in s if char in vowels)\n",
    "    num_consonants = sum(1 for char in s if char.isalpha() and char not in vowels)\n",
    "    return num_vowels, num_consonants\n",
    "\n",
    "# Taking input from the user\n",
    "string = input(\"Enter a string: \")\n",
    "vowels, consonants = count_vowels_and_consonants(string)\n",
    "print(\"Number of vowels:\", vowels)\n",
    "print(\"Number of consonants:\", consonants)"
   ]
  },
  {
   "cell_type": "code",
   "execution_count": null,
   "id": "e51647b1",
   "metadata": {},
   "outputs": [],
   "source": []
  }
 ],
 "metadata": {
  "kernelspec": {
   "display_name": "Python 3 (ipykernel)",
   "language": "python",
   "name": "python3"
  },
  "language_info": {
   "codemirror_mode": {
    "name": "ipython",
    "version": 3
   },
   "file_extension": ".py",
   "mimetype": "text/x-python",
   "name": "python",
   "nbconvert_exporter": "python",
   "pygments_lexer": "ipython3",
   "version": "3.9.13"
  }
 },
 "nbformat": 4,
 "nbformat_minor": 5
}
